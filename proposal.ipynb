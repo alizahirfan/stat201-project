{
 "cells": [
  {
   "cell_type": "markdown",
   "id": "1adbf6f9-c478-446b-b471-1950eeb8f398",
   "metadata": {},
   "source": [
    "# **Did Average Annual Bike Theft Change Significantly During Jim Chu's Tenure as VPD Chief Constable in Vancouver (2007-2015)?**"
   ]
  },
  {
   "cell_type": "markdown",
   "id": "e0bcf03b-9a15-4923-8a83-31fe62f8937b",
   "metadata": {
    "tags": []
   },
   "source": [
    "### Group 46: Alizah Irfan, Jessie Zhao, Ayaan Ahuja, Mehardeep Singh"
   ]
  },
  {
   "cell_type": "markdown",
   "id": "623b1163-7744-4979-b76e-e5e6a1598827",
   "metadata": {},
   "source": [
    "# Introduction\n",
    "In the context of a transition in law enforcement leadership, the impact on crime rates is a topic of great concern. The Vancouver Police Department, a key pillar of law enforcement, was led by three police chiefs from 2003 to 2023([Vancouver Police Department](https://vpd.ca/about-the-vpd/executive-team/)). The Chief of Police serves as the highest echelon of the police force. It plays a key role in developing law enforcement strategies, resource allocation, and the overall safety and security of the community(Marquis, 1993). \n",
    "### Research Question\n",
    "Our research sought to understand whether Jim Zhu's appointment as police chief brought about a significant shift in crime dynamics, focusing specifically on the annual bike theft rate. In this investigation, we intend to compare Jim Chu's tenure with that of his predecessor, Jamie Graham, and his successor, Adam Palmer.\n",
    "### Variables\n",
    "To address this question, we used statistical inference techniques to analyze the average annual number of bike thefts. We consider the average annual number of bike theft as our location parameter, a variable that provides the core measure of bike theft rates for the period in question. We also study standard deviation as a scaling parameter to measure the variability and distribution of bike theft numbers.\n",
    "### Dataset Description\n",
    "Our dataset is derived from the Vancouver Police Department's open data repository and contains crime data from 2003 to 2023 ([Vancouver Police Department (VPD) crime data](https://geodash.vpd.ca/opendata/)). Each row represents a reported crime, with different variables including crime type, neighborhood, date, time, and street location. For the purposes of our research, we will examine the crime type and year for each record. We'll group the data by year and calculate the average number of bike theft per year during each police chief's tenure. We will then determine whether the difference in estimated means is significant.\n",
    "It is estimated that “between 25 to 40 per cent of bike thefts go unreported” (CBC, 2020). The dataset will represent a sample of all stolen bikes in Vancouver. \n",
    "# Preliminary Results:\n",
    "### Loading Packages\n",
    "Our data analysis commenced with the loading of essential R packages, including `tideverse` and `infer`. These packages provide tools for data cleaning, visualization, and conducting statistical inferences. To ensure accessibility and readability, we also customized the plot dimensions and selected color palettes suitable for individuals with color vision impairments.\n"
   ]
  },
  {
   "cell_type": "code",
   "execution_count": 19,
   "id": "d78cbf3e-9004-42ef-be8b-e94c787f6ea0",
   "metadata": {
    "tags": []
   },
   "outputs": [],
   "source": [
    "library(tidyverse)\n",
    "library(infer)\n",
    "library(ggplot2)"
   ]
  },
  {
   "cell_type": "markdown",
   "id": "64567214-dbe3-45e2-b592-7582304953ef",
   "metadata": {
    "tags": []
   },
   "source": [
    "## Preliminary Results"
   ]
  },
  {
   "cell_type": "markdown",
   "id": "f29c8dc5-c6b3-4bef-abdb-caef6d725ccc",
   "metadata": {},
   "source": [
    "In this section, you will:\n",
    "\n",
    "Demonstrate that the dataset can be read from the web into R.\n",
    "* Clean and wrangle your data into a tidy format.\n",
    "* Plot the relevant raw data, tailoring your plot in a way that addresses your question.\n",
    "* Compute estimates of the parameter you identified across your groups. Present this in a table. If relevant, include these estimates in your plot.\n",
    "\n",
    "library(tidyverse)\n",
    "library(repr)\n",
    "library(digest)\n",
    "library(infer)\n",
    "library(gridExtra)\n",
    "library(taxyvr)\n",
    "library(cowplot)Be sure to not print output that takes up a lot of screen space."
   ]
  },
  {
   "cell_type": "code",
   "execution_count": 2,
   "id": "5fc58cc2-c971-43c0-9814-4508294087c0",
   "metadata": {
    "tags": []
   },
   "outputs": [
    {
     "name": "stderr",
     "output_type": "stream",
     "text": [
      "── \u001b[1mAttaching core tidyverse packages\u001b[22m ──────────────────────── tidyverse 2.0.0 ──\n",
      "\u001b[32m✔\u001b[39m \u001b[34mdplyr    \u001b[39m 1.1.3     \u001b[32m✔\u001b[39m \u001b[34mreadr    \u001b[39m 2.1.4\n",
      "\u001b[32m✔\u001b[39m \u001b[34mforcats  \u001b[39m 1.0.0     \u001b[32m✔\u001b[39m \u001b[34mstringr  \u001b[39m 1.5.0\n",
      "\u001b[32m✔\u001b[39m \u001b[34mggplot2  \u001b[39m 3.4.3     \u001b[32m✔\u001b[39m \u001b[34mtibble   \u001b[39m 3.2.1\n",
      "\u001b[32m✔\u001b[39m \u001b[34mlubridate\u001b[39m 1.9.2     \u001b[32m✔\u001b[39m \u001b[34mtidyr    \u001b[39m 1.3.0\n",
      "\u001b[32m✔\u001b[39m \u001b[34mpurrr    \u001b[39m 1.0.1     \n",
      "── \u001b[1mConflicts\u001b[22m ────────────────────────────────────────── tidyverse_conflicts() ──\n",
      "\u001b[31m✖\u001b[39m \u001b[34mdplyr\u001b[39m::\u001b[32mfilter()\u001b[39m masks \u001b[34mstats\u001b[39m::filter()\n",
      "\u001b[31m✖\u001b[39m \u001b[34mdplyr\u001b[39m::\u001b[32mlag()\u001b[39m    masks \u001b[34mstats\u001b[39m::lag()\n",
      "\u001b[36mℹ\u001b[39m Use the conflicted package (\u001b[3m\u001b[34m<http://conflicted.r-lib.org/>\u001b[39m\u001b[23m) to force all conflicts to become errors\n",
      "\n",
      "Attaching package: ‘gridExtra’\n",
      "\n",
      "\n",
      "The following object is masked from ‘package:dplyr’:\n",
      "\n",
      "    combine\n",
      "\n",
      "\n",
      "\n",
      "Attaching package: ‘cowplot’\n",
      "\n",
      "\n",
      "The following object is masked from ‘package:lubridate’:\n",
      "\n",
      "    stamp\n",
      "\n",
      "\n"
     ]
    }
   ],
   "source": [
    "library(tidyverse)\n",
    "library(repr)\n",
    "library(digest)\n",
    "library(infer)\n",
    "library(gridExtra)\n",
    "library(taxyvr)\n",
    "library(cowplot)\n",
    "library(ggplot2)"
   ]
  },
  {
   "cell_type": "code",
   "execution_count": 3,
   "id": "3c05af75-3634-4917-9622-389c5ab31bd3",
   "metadata": {
    "tags": []
   },
   "outputs": [],
   "source": [
    "crimedata <- read.csv('https://raw.githubusercontent.com/alizahirfan/stat201-project/55764f86988a1cd4121c6394cf0d82940ab7f3bf/crimedata.csv', header = TRUE, sep = \",\")"
   ]
  },
  {
   "cell_type": "code",
   "execution_count": 4,
   "id": "e489f82d-2726-4954-92bc-e27cc2dd08ec",
   "metadata": {
    "tags": []
   },
   "outputs": [
    {
     "data": {
      "text/html": [
       "<table class=\"dataframe\">\n",
       "<caption>A data.frame: 6 × 10</caption>\n",
       "<thead>\n",
       "\t<tr><th></th><th scope=col>TYPE</th><th scope=col>YEAR</th><th scope=col>MONTH</th><th scope=col>DAY</th><th scope=col>HOUR</th><th scope=col>MINUTE</th><th scope=col>HUNDRED_BLOCK</th><th scope=col>NEIGHBOURHOOD</th><th scope=col>X</th><th scope=col>Y</th></tr>\n",
       "\t<tr><th></th><th scope=col>&lt;chr&gt;</th><th scope=col>&lt;int&gt;</th><th scope=col>&lt;int&gt;</th><th scope=col>&lt;int&gt;</th><th scope=col>&lt;int&gt;</th><th scope=col>&lt;int&gt;</th><th scope=col>&lt;chr&gt;</th><th scope=col>&lt;chr&gt;</th><th scope=col>&lt;dbl&gt;</th><th scope=col>&lt;dbl&gt;</th></tr>\n",
       "</thead>\n",
       "<tbody>\n",
       "\t<tr><th scope=row>1</th><td>Break and Enter Commercial</td><td>2012</td><td>12</td><td>14</td><td> 8</td><td>52</td><td>               </td><td>Oakridge</td><td>491285.0</td><td>5453433</td></tr>\n",
       "\t<tr><th scope=row>2</th><td>Break and Enter Commercial</td><td>2019</td><td> 3</td><td> 7</td><td> 2</td><td> 6</td><td>10XX SITKA SQ  </td><td>Fairview</td><td>490613.0</td><td>5457110</td></tr>\n",
       "\t<tr><th scope=row>3</th><td>Break and Enter Commercial</td><td>2019</td><td> 8</td><td>27</td><td> 4</td><td>12</td><td>10XX ALBERNI ST</td><td>West End</td><td>491007.8</td><td>5459174</td></tr>\n",
       "\t<tr><th scope=row>4</th><td>Break and Enter Commercial</td><td>2021</td><td> 4</td><td>26</td><td> 4</td><td>44</td><td>10XX ALBERNI ST</td><td>West End</td><td>491007.8</td><td>5459174</td></tr>\n",
       "\t<tr><th scope=row>5</th><td>Break and Enter Commercial</td><td>2014</td><td> 8</td><td> 8</td><td> 5</td><td>13</td><td>10XX ALBERNI ST</td><td>West End</td><td>491015.9</td><td>5459166</td></tr>\n",
       "\t<tr><th scope=row>6</th><td>Break and Enter Commercial</td><td>2020</td><td> 7</td><td>28</td><td>19</td><td>12</td><td>10XX ALBERNI ST</td><td>West End</td><td>491015.9</td><td>5459166</td></tr>\n",
       "</tbody>\n",
       "</table>\n"
      ],
      "text/latex": [
       "A data.frame: 6 × 10\n",
       "\\begin{tabular}{r|llllllllll}\n",
       "  & TYPE & YEAR & MONTH & DAY & HOUR & MINUTE & HUNDRED\\_BLOCK & NEIGHBOURHOOD & X & Y\\\\\n",
       "  & <chr> & <int> & <int> & <int> & <int> & <int> & <chr> & <chr> & <dbl> & <dbl>\\\\\n",
       "\\hline\n",
       "\t1 & Break and Enter Commercial & 2012 & 12 & 14 &  8 & 52 &                 & Oakridge & 491285.0 & 5453433\\\\\n",
       "\t2 & Break and Enter Commercial & 2019 &  3 &  7 &  2 &  6 & 10XX SITKA SQ   & Fairview & 490613.0 & 5457110\\\\\n",
       "\t3 & Break and Enter Commercial & 2019 &  8 & 27 &  4 & 12 & 10XX ALBERNI ST & West End & 491007.8 & 5459174\\\\\n",
       "\t4 & Break and Enter Commercial & 2021 &  4 & 26 &  4 & 44 & 10XX ALBERNI ST & West End & 491007.8 & 5459174\\\\\n",
       "\t5 & Break and Enter Commercial & 2014 &  8 &  8 &  5 & 13 & 10XX ALBERNI ST & West End & 491015.9 & 5459166\\\\\n",
       "\t6 & Break and Enter Commercial & 2020 &  7 & 28 & 19 & 12 & 10XX ALBERNI ST & West End & 491015.9 & 5459166\\\\\n",
       "\\end{tabular}\n"
      ],
      "text/markdown": [
       "\n",
       "A data.frame: 6 × 10\n",
       "\n",
       "| <!--/--> | TYPE &lt;chr&gt; | YEAR &lt;int&gt; | MONTH &lt;int&gt; | DAY &lt;int&gt; | HOUR &lt;int&gt; | MINUTE &lt;int&gt; | HUNDRED_BLOCK &lt;chr&gt; | NEIGHBOURHOOD &lt;chr&gt; | X &lt;dbl&gt; | Y &lt;dbl&gt; |\n",
       "|---|---|---|---|---|---|---|---|---|---|---|\n",
       "| 1 | Break and Enter Commercial | 2012 | 12 | 14 |  8 | 52 | <!----> | Oakridge | 491285.0 | 5453433 |\n",
       "| 2 | Break and Enter Commercial | 2019 |  3 |  7 |  2 |  6 | 10XX SITKA SQ   | Fairview | 490613.0 | 5457110 |\n",
       "| 3 | Break and Enter Commercial | 2019 |  8 | 27 |  4 | 12 | 10XX ALBERNI ST | West End | 491007.8 | 5459174 |\n",
       "| 4 | Break and Enter Commercial | 2021 |  4 | 26 |  4 | 44 | 10XX ALBERNI ST | West End | 491007.8 | 5459174 |\n",
       "| 5 | Break and Enter Commercial | 2014 |  8 |  8 |  5 | 13 | 10XX ALBERNI ST | West End | 491015.9 | 5459166 |\n",
       "| 6 | Break and Enter Commercial | 2020 |  7 | 28 | 19 | 12 | 10XX ALBERNI ST | West End | 491015.9 | 5459166 |\n",
       "\n"
      ],
      "text/plain": [
       "  TYPE                       YEAR MONTH DAY HOUR MINUTE HUNDRED_BLOCK  \n",
       "1 Break and Enter Commercial 2012 12    14   8   52                    \n",
       "2 Break and Enter Commercial 2019  3     7   2    6     10XX SITKA SQ  \n",
       "3 Break and Enter Commercial 2019  8    27   4   12     10XX ALBERNI ST\n",
       "4 Break and Enter Commercial 2021  4    26   4   44     10XX ALBERNI ST\n",
       "5 Break and Enter Commercial 2014  8     8   5   13     10XX ALBERNI ST\n",
       "6 Break and Enter Commercial 2020  7    28  19   12     10XX ALBERNI ST\n",
       "  NEIGHBOURHOOD X        Y      \n",
       "1 Oakridge      491285.0 5453433\n",
       "2 Fairview      490613.0 5457110\n",
       "3 West End      491007.8 5459174\n",
       "4 West End      491007.8 5459174\n",
       "5 West End      491015.9 5459166\n",
       "6 West End      491015.9 5459166"
      ]
     },
     "metadata": {},
     "output_type": "display_data"
    },
    {
     "data": {
      "text/html": [
       "<table class=\"dataframe\">\n",
       "<caption>A data.frame: 6 × 2</caption>\n",
       "<thead>\n",
       "\t<tr><th></th><th scope=col>TYPE</th><th scope=col>YEAR</th></tr>\n",
       "\t<tr><th></th><th scope=col>&lt;chr&gt;</th><th scope=col>&lt;int&gt;</th></tr>\n",
       "</thead>\n",
       "<tbody>\n",
       "\t<tr><th scope=row>1</th><td>Theft of Bicycle</td><td>2005</td></tr>\n",
       "\t<tr><th scope=row>2</th><td>Theft of Bicycle</td><td>2006</td></tr>\n",
       "\t<tr><th scope=row>3</th><td>Theft of Bicycle</td><td>2008</td></tr>\n",
       "\t<tr><th scope=row>4</th><td>Theft of Bicycle</td><td>2009</td></tr>\n",
       "\t<tr><th scope=row>5</th><td>Theft of Bicycle</td><td>2011</td></tr>\n",
       "\t<tr><th scope=row>6</th><td>Theft of Bicycle</td><td>2015</td></tr>\n",
       "</tbody>\n",
       "</table>\n"
      ],
      "text/latex": [
       "A data.frame: 6 × 2\n",
       "\\begin{tabular}{r|ll}\n",
       "  & TYPE & YEAR\\\\\n",
       "  & <chr> & <int>\\\\\n",
       "\\hline\n",
       "\t1 & Theft of Bicycle & 2005\\\\\n",
       "\t2 & Theft of Bicycle & 2006\\\\\n",
       "\t3 & Theft of Bicycle & 2008\\\\\n",
       "\t4 & Theft of Bicycle & 2009\\\\\n",
       "\t5 & Theft of Bicycle & 2011\\\\\n",
       "\t6 & Theft of Bicycle & 2015\\\\\n",
       "\\end{tabular}\n"
      ],
      "text/markdown": [
       "\n",
       "A data.frame: 6 × 2\n",
       "\n",
       "| <!--/--> | TYPE &lt;chr&gt; | YEAR &lt;int&gt; |\n",
       "|---|---|---|\n",
       "| 1 | Theft of Bicycle | 2005 |\n",
       "| 2 | Theft of Bicycle | 2006 |\n",
       "| 3 | Theft of Bicycle | 2008 |\n",
       "| 4 | Theft of Bicycle | 2009 |\n",
       "| 5 | Theft of Bicycle | 2011 |\n",
       "| 6 | Theft of Bicycle | 2015 |\n",
       "\n"
      ],
      "text/plain": [
       "  TYPE             YEAR\n",
       "1 Theft of Bicycle 2005\n",
       "2 Theft of Bicycle 2006\n",
       "3 Theft of Bicycle 2008\n",
       "4 Theft of Bicycle 2009\n",
       "5 Theft of Bicycle 2011\n",
       "6 Theft of Bicycle 2015"
      ]
     },
     "metadata": {},
     "output_type": "display_data"
    }
   ],
   "source": [
    "head(crimedata)\n",
    "\n",
    "crimedata_filtered <- crimedata %>% \n",
    "                        select(TYPE, YEAR) %>%\n",
    "                        filter(TYPE == \"Theft of Bicycle\")\n",
    "head(crimedata_filtered)"
   ]
  },
  {
   "cell_type": "code",
   "execution_count": 5,
   "id": "6aed5cd4-6504-4584-9c4c-9c80e85b3a8a",
   "metadata": {
    "tags": []
   },
   "outputs": [
    {
     "data": {
      "text/html": [
       "<table class=\"dataframe\">\n",
       "<caption>A tibble: 6 × 2</caption>\n",
       "<thead>\n",
       "\t<tr><th scope=col>YEAR</th><th scope=col>count</th></tr>\n",
       "\t<tr><th scope=col>&lt;int&gt;</th><th scope=col>&lt;int&gt;</th></tr>\n",
       "</thead>\n",
       "<tbody>\n",
       "\t<tr><td>2003</td><td>1419</td></tr>\n",
       "\t<tr><td>2004</td><td>1230</td></tr>\n",
       "\t<tr><td>2005</td><td>1416</td></tr>\n",
       "\t<tr><td>2006</td><td>1467</td></tr>\n",
       "\t<tr><td>2007</td><td>1203</td></tr>\n",
       "\t<tr><td>2008</td><td>1176</td></tr>\n",
       "</tbody>\n",
       "</table>\n"
      ],
      "text/latex": [
       "A tibble: 6 × 2\n",
       "\\begin{tabular}{ll}\n",
       " YEAR & count\\\\\n",
       " <int> & <int>\\\\\n",
       "\\hline\n",
       "\t 2003 & 1419\\\\\n",
       "\t 2004 & 1230\\\\\n",
       "\t 2005 & 1416\\\\\n",
       "\t 2006 & 1467\\\\\n",
       "\t 2007 & 1203\\\\\n",
       "\t 2008 & 1176\\\\\n",
       "\\end{tabular}\n"
      ],
      "text/markdown": [
       "\n",
       "A tibble: 6 × 2\n",
       "\n",
       "| YEAR &lt;int&gt; | count &lt;int&gt; |\n",
       "|---|---|\n",
       "| 2003 | 1419 |\n",
       "| 2004 | 1230 |\n",
       "| 2005 | 1416 |\n",
       "| 2006 | 1467 |\n",
       "| 2007 | 1203 |\n",
       "| 2008 | 1176 |\n",
       "\n"
      ],
      "text/plain": [
       "  YEAR count\n",
       "1 2003 1419 \n",
       "2 2004 1230 \n",
       "3 2005 1416 \n",
       "4 2006 1467 \n",
       "5 2007 1203 \n",
       "6 2008 1176 "
      ]
     },
     "metadata": {},
     "output_type": "display_data"
    }
   ],
   "source": [
    "crimedata_summary <- crimedata_filtered %>% \n",
    "group_by(YEAR) %>%\n",
    "summarize(count = n())\n",
    "\n",
    "head(crimedata_summary)"
   ]
  },
  {
   "cell_type": "code",
   "execution_count": 6,
   "id": "f0139f21-78c4-4499-a28d-2defe43513dc",
   "metadata": {
    "tags": []
   },
   "outputs": [
    {
     "data": {
      "application/pdf": "[encoded data removed]",
      "image/jpeg": "[encoded data removed]",
      "image/png": "[encoded data removed]",
      "image/svg+xml": [
       "<?xml version=\"1.0\" encoding=\"UTF-8\"?>\n",
       "<svg xmlns=\"http://www.w3.org/2000/svg\" xmlns:xlink=\"http://www.w3.org/1999/xlink\" width=\"504pt\" height=\"504pt\" viewBox=\"0 0 504 504\" version=\"1.1\">\n",
       "<defs>\n",
       "<g>\n",
       "<symbol overflow=\"visible\" id=\"glyph0-0\">\n",
       "<path style=\"stroke:none;\" d=\"M 0.296875 0 L 0.296875 -5.859375 L 2.625 -5.859375 L 2.625 0 Z M 0.578125 -0.296875 L 2.34375 -0.296875 L 2.34375 -5.578125 L 0.578125 -5.578125 Z M 0.578125 -0.296875 \"/>\n",
       "</symbol>\n",
       "<symbol overflow=\"visible\" id=\"glyph0-1\">\n",
       "<path style=\"stroke:none;\" d=\"M 4.546875 -3.03125 C 4.546875 -2.445312 4.488281 -1.957031 4.375 -1.5625 C 4.269531 -1.164062 4.117188 -0.84375 3.921875 -0.59375 C 3.734375 -0.351562 3.507812 -0.179688 3.25 -0.078125 C 3 0.0234375 2.726562 0.078125 2.4375 0.078125 C 2.144531 0.078125 1.867188 0.0234375 1.609375 -0.078125 C 1.359375 -0.179688 1.140625 -0.351562 0.953125 -0.59375 C 0.765625 -0.84375 0.613281 -1.164062 0.5 -1.5625 C 0.394531 -1.957031 0.34375 -2.445312 0.34375 -3.03125 C 0.34375 -3.632812 0.394531 -4.132812 0.5 -4.53125 C 0.613281 -4.9375 0.765625 -5.257812 0.953125 -5.5 C 1.140625 -5.738281 1.359375 -5.90625 1.609375 -6 C 1.867188 -6.09375 2.15625 -6.140625 2.46875 -6.140625 C 2.75 -6.140625 3.015625 -6.09375 3.265625 -6 C 3.523438 -5.90625 3.75 -5.738281 3.9375 -5.5 C 4.125 -5.257812 4.269531 -4.9375 4.375 -4.53125 C 4.488281 -4.132812 4.546875 -3.632812 4.546875 -3.03125 Z M 3.765625 -3.03125 C 3.765625 -3.507812 3.734375 -3.90625 3.671875 -4.21875 C 3.617188 -4.539062 3.535156 -4.796875 3.421875 -4.984375 C 3.304688 -5.179688 3.164062 -5.316406 3 -5.390625 C 2.84375 -5.472656 2.664062 -5.515625 2.46875 -5.515625 C 2.25 -5.515625 2.054688 -5.472656 1.890625 -5.390625 C 1.722656 -5.316406 1.582031 -5.179688 1.46875 -4.984375 C 1.351562 -4.796875 1.265625 -4.539062 1.203125 -4.21875 C 1.148438 -3.90625 1.125 -3.507812 1.125 -3.03125 C 1.125 -2.5625 1.148438 -2.164062 1.203125 -1.84375 C 1.265625 -1.53125 1.351562 -1.273438 1.46875 -1.078125 C 1.582031 -0.890625 1.71875 -0.753906 1.875 -0.671875 C 2.039062 -0.585938 2.226562 -0.546875 2.4375 -0.546875 C 2.644531 -0.546875 2.828125 -0.585938 2.984375 -0.671875 C 3.148438 -0.753906 3.289062 -0.890625 3.40625 -1.078125 C 3.519531 -1.273438 3.609375 -1.53125 3.671875 -1.84375 C 3.734375 -2.164062 3.765625 -2.5625 3.765625 -3.03125 Z M 3.765625 -3.03125 \"/>\n",
       "</symbol>\n",
       "<symbol overflow=\"visible\" id=\"glyph0-2\">\n",
       "<path style=\"stroke:none;\" d=\"M 0.671875 0 L 0.671875 -0.65625 L 2.21875 -0.65625 L 2.21875 -5.3125 L 0.84375 -4.34375 L 0.84375 -5.0625 L 2.28125 -6.046875 L 2.984375 -6.046875 L 2.984375 -0.65625 L 4.46875 -0.65625 L 4.46875 0 Z M 0.671875 0 \"/>\n",
       "</symbol>\n",
       "<symbol overflow=\"visible\" id=\"glyph0-3\">\n",
       "<path style=\"stroke:none;\" d=\"M 0.4375 0 L 0.4375 -0.546875 C 0.582031 -0.878906 0.757812 -1.171875 0.96875 -1.421875 C 1.1875 -1.679688 1.410156 -1.914062 1.640625 -2.125 C 1.867188 -2.332031 2.097656 -2.523438 2.328125 -2.703125 C 2.554688 -2.878906 2.757812 -3.054688 2.9375 -3.234375 C 3.125 -3.410156 3.273438 -3.597656 3.390625 -3.796875 C 3.503906 -3.992188 3.5625 -4.210938 3.5625 -4.453125 C 3.5625 -4.628906 3.535156 -4.78125 3.484375 -4.90625 C 3.429688 -5.039062 3.351562 -5.148438 3.25 -5.234375 C 3.15625 -5.328125 3.039062 -5.394531 2.90625 -5.4375 C 2.769531 -5.476562 2.617188 -5.5 2.453125 -5.5 C 2.296875 -5.5 2.148438 -5.476562 2.015625 -5.4375 C 1.878906 -5.394531 1.757812 -5.332031 1.65625 -5.25 C 1.550781 -5.164062 1.460938 -5.054688 1.390625 -4.921875 C 1.328125 -4.796875 1.285156 -4.648438 1.265625 -4.484375 L 0.484375 -4.5625 C 0.503906 -4.78125 0.5625 -4.984375 0.65625 -5.171875 C 0.75 -5.359375 0.878906 -5.523438 1.046875 -5.671875 C 1.210938 -5.816406 1.410156 -5.929688 1.640625 -6.015625 C 1.878906 -6.097656 2.148438 -6.140625 2.453125 -6.140625 C 2.753906 -6.140625 3.019531 -6.101562 3.25 -6.03125 C 3.488281 -5.957031 3.6875 -5.847656 3.84375 -5.703125 C 4.007812 -5.566406 4.132812 -5.394531 4.21875 -5.1875 C 4.3125 -4.988281 4.359375 -4.753906 4.359375 -4.484375 C 4.359375 -4.273438 4.320312 -4.078125 4.25 -3.890625 C 4.175781 -3.710938 4.078125 -3.539062 3.953125 -3.375 C 3.828125 -3.207031 3.6875 -3.046875 3.53125 -2.890625 C 3.375 -2.742188 3.207031 -2.59375 3.03125 -2.4375 C 2.851562 -2.289062 2.675781 -2.144531 2.5 -2 C 2.320312 -1.863281 2.15625 -1.722656 2 -1.578125 C 1.84375 -1.429688 1.703125 -1.28125 1.578125 -1.125 C 1.453125 -0.976562 1.359375 -0.820312 1.296875 -0.65625 L 4.453125 -0.65625 L 4.453125 0 Z M 0.4375 0 \"/>\n",
       "</symbol>\n",
       "<symbol overflow=\"visible\" id=\"glyph0-4\">\n",
       "<path style=\"stroke:none;\" d=\"M 4.5 -1.671875 C 4.5 -1.390625 4.453125 -1.140625 4.359375 -0.921875 C 4.273438 -0.703125 4.144531 -0.519531 3.96875 -0.375 C 3.800781 -0.226562 3.585938 -0.113281 3.328125 -0.03125 C 3.078125 0.0390625 2.785156 0.078125 2.453125 0.078125 C 2.078125 0.078125 1.757812 0.0351562 1.5 -0.046875 C 1.25 -0.140625 1.039062 -0.265625 0.875 -0.421875 C 0.707031 -0.578125 0.582031 -0.75 0.5 -0.9375 C 0.414062 -1.132812 0.359375 -1.34375 0.328125 -1.5625 L 1.140625 -1.625 C 1.160156 -1.46875 1.203125 -1.320312 1.265625 -1.1875 C 1.328125 -1.0625 1.410156 -0.945312 1.515625 -0.84375 C 1.617188 -0.75 1.75 -0.675781 1.90625 -0.625 C 2.0625 -0.570312 2.242188 -0.546875 2.453125 -0.546875 C 2.835938 -0.546875 3.140625 -0.640625 3.359375 -0.828125 C 3.585938 -1.023438 3.703125 -1.316406 3.703125 -1.703125 C 3.703125 -1.921875 3.648438 -2.097656 3.546875 -2.234375 C 3.453125 -2.367188 3.332031 -2.472656 3.1875 -2.546875 C 3.039062 -2.628906 2.878906 -2.679688 2.703125 -2.703125 C 2.523438 -2.734375 2.363281 -2.75 2.21875 -2.75 L 1.78125 -2.75 L 1.78125 -3.421875 L 2.203125 -3.421875 C 2.347656 -3.421875 2.5 -3.429688 2.65625 -3.453125 C 2.820312 -3.484375 2.96875 -3.535156 3.09375 -3.609375 C 3.226562 -3.691406 3.335938 -3.800781 3.421875 -3.9375 C 3.503906 -4.070312 3.546875 -4.242188 3.546875 -4.453125 C 3.546875 -4.773438 3.445312 -5.03125 3.25 -5.21875 C 3.0625 -5.40625 2.78125 -5.5 2.40625 -5.5 C 2.070312 -5.5 1.796875 -5.410156 1.578125 -5.234375 C 1.367188 -5.066406 1.25 -4.820312 1.21875 -4.5 L 0.4375 -4.5625 C 0.46875 -4.832031 0.539062 -5.066406 0.65625 -5.265625 C 0.769531 -5.460938 0.914062 -5.625 1.09375 -5.75 C 1.269531 -5.882812 1.46875 -5.984375 1.6875 -6.046875 C 1.914062 -6.109375 2.160156 -6.140625 2.421875 -6.140625 C 2.753906 -6.140625 3.039062 -6.097656 3.28125 -6.015625 C 3.53125 -5.929688 3.734375 -5.816406 3.890625 -5.671875 C 4.046875 -5.523438 4.160156 -5.351562 4.234375 -5.15625 C 4.304688 -4.96875 4.34375 -4.765625 4.34375 -4.546875 C 4.34375 -4.367188 4.316406 -4.203125 4.265625 -4.046875 C 4.210938 -3.890625 4.132812 -3.75 4.03125 -3.625 C 3.9375 -3.5 3.804688 -3.390625 3.640625 -3.296875 C 3.484375 -3.210938 3.296875 -3.148438 3.078125 -3.109375 L 3.078125 -3.09375 C 3.316406 -3.0625 3.523438 -3.003906 3.703125 -2.921875 C 3.890625 -2.835938 4.039062 -2.734375 4.15625 -2.609375 C 4.269531 -2.484375 4.351562 -2.335938 4.40625 -2.171875 C 4.46875 -2.015625 4.5 -1.847656 4.5 -1.671875 Z M 4.5 -1.671875 \"/>\n",
       "</symbol>\n",
       "<symbol overflow=\"visible\" id=\"glyph0-5\">\n",
       "<path style=\"stroke:none;\" d=\"M 4.515625 -1.96875 C 4.515625 -1.664062 4.46875 -1.390625 4.375 -1.140625 C 4.289062 -0.890625 4.15625 -0.671875 3.96875 -0.484375 C 3.789062 -0.304688 3.566406 -0.164062 3.296875 -0.0625 C 3.035156 0.03125 2.726562 0.078125 2.375 0.078125 C 2.0625 0.078125 1.785156 0.0390625 1.546875 -0.03125 C 1.304688 -0.101562 1.101562 -0.203125 0.9375 -0.328125 C 0.78125 -0.460938 0.648438 -0.613281 0.546875 -0.78125 C 0.453125 -0.957031 0.390625 -1.148438 0.359375 -1.359375 L 1.140625 -1.4375 C 1.171875 -1.320312 1.210938 -1.210938 1.265625 -1.109375 C 1.328125 -1.003906 1.40625 -0.910156 1.5 -0.828125 C 1.601562 -0.742188 1.722656 -0.675781 1.859375 -0.625 C 2.003906 -0.570312 2.179688 -0.546875 2.390625 -0.546875 C 2.585938 -0.546875 2.769531 -0.578125 2.9375 -0.640625 C 3.101562 -0.703125 3.242188 -0.789062 3.359375 -0.90625 C 3.472656 -1.03125 3.5625 -1.175781 3.625 -1.34375 C 3.6875 -1.519531 3.71875 -1.722656 3.71875 -1.953125 C 3.71875 -2.140625 3.6875 -2.3125 3.625 -2.46875 C 3.570312 -2.625 3.488281 -2.757812 3.375 -2.875 C 3.257812 -2.988281 3.117188 -3.078125 2.953125 -3.140625 C 2.796875 -3.203125 2.613281 -3.234375 2.40625 -3.234375 C 2.28125 -3.234375 2.160156 -3.21875 2.046875 -3.1875 C 1.941406 -3.164062 1.84375 -3.132812 1.75 -3.09375 C 1.65625 -3.0625 1.570312 -3.015625 1.5 -2.953125 C 1.425781 -2.898438 1.351562 -2.847656 1.28125 -2.796875 L 0.53125 -2.796875 L 0.734375 -6.046875 L 4.171875 -6.046875 L 4.171875 -5.390625 L 1.4375 -5.390625 L 1.3125 -3.46875 C 1.457031 -3.582031 1.628906 -3.675781 1.828125 -3.75 C 2.035156 -3.820312 2.28125 -3.859375 2.5625 -3.859375 C 2.863281 -3.859375 3.132812 -3.8125 3.375 -3.71875 C 3.613281 -3.632812 3.816406 -3.503906 3.984375 -3.328125 C 4.160156 -3.160156 4.289062 -2.960938 4.375 -2.734375 C 4.46875 -2.503906 4.515625 -2.25 4.515625 -1.96875 Z M 4.515625 -1.96875 \"/>\n",
       "</symbol>\n",
       "<symbol overflow=\"visible\" id=\"glyph1-0\">\n",
       "<path style=\"stroke:none;\" d=\"M 0.359375 0 L 0.359375 -7.328125 L 3.28125 -7.328125 L 3.28125 0 Z M 0.734375 -0.359375 L 2.921875 -0.359375 L 2.921875 -6.96875 L 0.734375 -6.96875 Z M 0.734375 -0.359375 \"/>\n",
       "</symbol>\n",
       "<symbol overflow=\"visible\" id=\"glyph1-1\">\n",
       "<path style=\"stroke:none;\" d=\"M 4.171875 -3.140625 L 4.171875 0 L 3.15625 0 L 3.15625 -3.140625 L 0.234375 -7.5625 L 1.375 -7.5625 L 3.671875 -3.96875 L 5.96875 -7.5625 L 7.09375 -7.5625 Z M 4.171875 -3.140625 \"/>\n",
       "</symbol>\n",
       "<symbol overflow=\"visible\" id=\"glyph1-2\">\n",
       "<path style=\"stroke:none;\" d=\"M 0.90625 0 L 0.90625 -7.5625 L 6.640625 -7.5625 L 6.640625 -6.734375 L 1.921875 -6.734375 L 1.921875 -4.296875 L 6.328125 -4.296875 L 6.328125 -3.46875 L 1.921875 -3.46875 L 1.921875 -0.84375 L 6.859375 -0.84375 L 6.859375 0 Z M 0.90625 0 \"/>\n",
       "</symbol>\n",
       "<symbol overflow=\"visible\" id=\"glyph1-3\">\n",
       "<path style=\"stroke:none;\" d=\"M 6.265625 0 L 5.40625 -2.21875 L 1.953125 -2.21875 L 1.078125 0 L 0.015625 0 L 3.109375 -7.5625 L 4.28125 -7.5625 L 7.3125 0 Z M 4.125 -5.515625 C 4.070312 -5.648438 4.019531 -5.789062 3.96875 -5.9375 C 3.914062 -6.09375 3.867188 -6.226562 3.828125 -6.34375 C 3.785156 -6.46875 3.75 -6.566406 3.71875 -6.640625 C 3.695312 -6.722656 3.679688 -6.773438 3.671875 -6.796875 C 3.671875 -6.773438 3.65625 -6.722656 3.625 -6.640625 C 3.601562 -6.554688 3.570312 -6.453125 3.53125 -6.328125 C 3.488281 -6.210938 3.441406 -6.082031 3.390625 -5.9375 C 3.335938 -5.789062 3.285156 -5.644531 3.234375 -5.5 L 2.265625 -3.015625 L 5.09375 -3.015625 Z M 4.125 -5.515625 \"/>\n",
       "</symbol>\n",
       "<symbol overflow=\"visible\" id=\"glyph1-4\">\n",
       "<path style=\"stroke:none;\" d=\"M 6.25 0 L 4.28125 -3.140625 L 1.921875 -3.140625 L 1.921875 0 L 0.90625 0 L 0.90625 -7.5625 L 4.46875 -7.5625 C 4.894531 -7.5625 5.273438 -7.507812 5.609375 -7.40625 C 5.941406 -7.3125 6.21875 -7.171875 6.4375 -6.984375 C 6.664062 -6.804688 6.835938 -6.582031 6.953125 -6.3125 C 7.078125 -6.039062 7.140625 -5.738281 7.140625 -5.40625 C 7.140625 -5.164062 7.101562 -4.925781 7.03125 -4.6875 C 6.957031 -4.457031 6.84375 -4.242188 6.6875 -4.046875 C 6.539062 -3.859375 6.351562 -3.691406 6.125 -3.546875 C 5.894531 -3.410156 5.613281 -3.316406 5.28125 -3.265625 L 7.4375 0 Z M 6.109375 -5.390625 C 6.109375 -5.617188 6.066406 -5.816406 5.984375 -5.984375 C 5.898438 -6.148438 5.785156 -6.289062 5.640625 -6.40625 C 5.492188 -6.519531 5.3125 -6.601562 5.09375 -6.65625 C 4.875 -6.71875 4.628906 -6.75 4.359375 -6.75 L 1.921875 -6.75 L 1.921875 -3.953125 L 4.40625 -3.953125 C 4.695312 -3.953125 4.945312 -3.988281 5.15625 -4.0625 C 5.375 -4.132812 5.550781 -4.234375 5.6875 -4.359375 C 5.832031 -4.492188 5.9375 -4.648438 6 -4.828125 C 6.070312 -5.003906 6.109375 -5.191406 6.109375 -5.390625 Z M 6.109375 -5.390625 \"/>\n",
       "</symbol>\n",
       "<symbol overflow=\"visible\" id=\"glyph2-0\">\n",
       "<path style=\"stroke:none;\" d=\"M 0 -0.359375 L -7.328125 -0.359375 L -7.328125 -3.28125 L 0 -3.28125 Z M -0.359375 -0.734375 L -0.359375 -2.921875 L -6.96875 -2.921875 L -6.96875 -0.734375 Z M -0.359375 -0.734375 \"/>\n",
       "</symbol>\n",
       "<symbol overflow=\"visible\" id=\"glyph2-1\">\n",
       "<path style=\"stroke:none;\" d=\"M -2.9375 -1.484375 C -2.601562 -1.484375 -2.296875 -1.503906 -2.015625 -1.546875 C -1.734375 -1.597656 -1.488281 -1.679688 -1.28125 -1.796875 C -1.082031 -1.910156 -0.925781 -2.0625 -0.8125 -2.25 C -0.707031 -2.4375 -0.65625 -2.664062 -0.65625 -2.9375 C -0.65625 -3.28125 -0.75 -3.566406 -0.9375 -3.796875 C -1.125 -4.035156 -1.410156 -4.179688 -1.796875 -4.234375 L -1.734375 -5.203125 C -1.492188 -5.171875 -1.257812 -5.101562 -1.03125 -5 C -0.8125 -4.894531 -0.617188 -4.75 -0.453125 -4.5625 C -0.285156 -4.375 -0.148438 -4.144531 -0.046875 -3.875 C 0.0546875 -3.613281 0.109375 -3.3125 0.109375 -2.96875 C 0.109375 -2.507812 0.03125 -2.117188 -0.125 -1.796875 C -0.28125 -1.484375 -0.492188 -1.226562 -0.765625 -1.03125 C -1.035156 -0.832031 -1.351562 -0.6875 -1.71875 -0.59375 C -2.082031 -0.507812 -2.476562 -0.46875 -2.90625 -0.46875 C -3.300781 -0.46875 -3.644531 -0.5 -3.9375 -0.5625 C -4.238281 -0.625 -4.5 -0.710938 -4.71875 -0.828125 C -4.945312 -0.953125 -5.132812 -1.09375 -5.28125 -1.25 C -5.4375 -1.40625 -5.5625 -1.570312 -5.65625 -1.75 C -5.75 -1.9375 -5.816406 -2.128906 -5.859375 -2.328125 C -5.898438 -2.535156 -5.921875 -2.742188 -5.921875 -2.953125 C -5.921875 -3.285156 -5.875 -3.578125 -5.78125 -3.828125 C -5.695312 -4.085938 -5.578125 -4.304688 -5.421875 -4.484375 C -5.265625 -4.671875 -5.078125 -4.820312 -4.859375 -4.9375 C -4.648438 -5.050781 -4.425781 -5.128906 -4.1875 -5.171875 L -4.109375 -4.1875 C -4.429688 -4.132812 -4.6875 -4.003906 -4.875 -3.796875 C -5.0625 -3.597656 -5.15625 -3.3125 -5.15625 -2.9375 C -5.15625 -2.65625 -5.109375 -2.421875 -5.015625 -2.234375 C -4.929688 -2.054688 -4.796875 -1.910156 -4.609375 -1.796875 C -4.421875 -1.679688 -4.1875 -1.597656 -3.90625 -1.546875 C -3.632812 -1.503906 -3.3125 -1.484375 -2.9375 -1.484375 Z M -2.9375 -1.484375 \"/>\n",
       "</symbol>\n",
       "<symbol overflow=\"visible\" id=\"glyph2-2\">\n",
       "<path style=\"stroke:none;\" d=\"M -2.90625 -5.65625 C -1.894531 -5.65625 -1.140625 -5.429688 -0.640625 -4.984375 C -0.140625 -4.535156 0.109375 -3.882812 0.109375 -3.03125 C 0.109375 -2.625 0.046875 -2.257812 -0.078125 -1.9375 C -0.203125 -1.625 -0.390625 -1.359375 -0.640625 -1.140625 C -0.890625 -0.921875 -1.203125 -0.753906 -1.578125 -0.640625 C -1.953125 -0.523438 -2.394531 -0.46875 -2.90625 -0.46875 C -4.914062 -0.46875 -5.921875 -1.332031 -5.921875 -3.0625 C -5.921875 -3.519531 -5.859375 -3.910156 -5.734375 -4.234375 C -5.609375 -4.566406 -5.421875 -4.835938 -5.171875 -5.046875 C -4.921875 -5.253906 -4.601562 -5.40625 -4.21875 -5.5 C -3.84375 -5.601562 -3.40625 -5.65625 -2.90625 -5.65625 Z M -2.90625 -4.640625 C -3.363281 -4.640625 -3.738281 -4.601562 -4.03125 -4.53125 C -4.320312 -4.46875 -4.554688 -4.367188 -4.734375 -4.234375 C -4.910156 -4.097656 -5.03125 -3.929688 -5.09375 -3.734375 C -5.164062 -3.546875 -5.203125 -3.328125 -5.203125 -3.078125 C -5.203125 -2.835938 -5.164062 -2.613281 -5.09375 -2.40625 C -5.019531 -2.207031 -4.894531 -2.039062 -4.71875 -1.90625 C -4.539062 -1.769531 -4.304688 -1.664062 -4.015625 -1.59375 C -3.722656 -1.519531 -3.351562 -1.484375 -2.90625 -1.484375 C -2.457031 -1.484375 -2.082031 -1.519531 -1.78125 -1.59375 C -1.488281 -1.675781 -1.253906 -1.785156 -1.078125 -1.921875 C -0.910156 -2.054688 -0.789062 -2.21875 -0.71875 -2.40625 C -0.644531 -2.59375 -0.609375 -2.800781 -0.609375 -3.03125 C -0.609375 -3.269531 -0.640625 -3.488281 -0.703125 -3.6875 C -0.773438 -3.894531 -0.898438 -4.066406 -1.078125 -4.203125 C -1.253906 -4.347656 -1.488281 -4.457031 -1.78125 -4.53125 C -2.082031 -4.601562 -2.457031 -4.640625 -2.90625 -4.640625 Z M -2.90625 -4.640625 \"/>\n",
       "</symbol>\n",
       "<symbol overflow=\"visible\" id=\"glyph2-3\">\n",
       "<path style=\"stroke:none;\" d=\"M -5.8125 -1.6875 L -2.125 -1.6875 C -1.84375 -1.6875 -1.609375 -1.707031 -1.421875 -1.75 C -1.234375 -1.789062 -1.078125 -1.859375 -0.953125 -1.953125 C -0.835938 -2.046875 -0.753906 -2.164062 -0.703125 -2.3125 C -0.660156 -2.46875 -0.640625 -2.660156 -0.640625 -2.890625 C -0.640625 -3.117188 -0.675781 -3.320312 -0.75 -3.5 C -0.832031 -3.6875 -0.953125 -3.84375 -1.109375 -3.96875 C -1.265625 -4.101562 -1.453125 -4.207031 -1.671875 -4.28125 C -1.898438 -4.351562 -2.15625 -4.390625 -2.4375 -4.390625 L -5.8125 -4.390625 L -5.8125 -5.359375 L -1.234375 -5.359375 C -1.117188 -5.359375 -0.992188 -5.359375 -0.859375 -5.359375 C -0.722656 -5.359375 -0.59375 -5.359375 -0.46875 -5.359375 C -0.351562 -5.367188 -0.25 -5.375 -0.15625 -5.375 C -0.0703125 -5.375 -0.0195312 -5.378906 0 -5.390625 L 0 -4.46875 C -0.0195312 -4.46875 -0.0664062 -4.460938 -0.140625 -4.453125 C -0.222656 -4.453125 -0.3125 -4.445312 -0.40625 -4.4375 C -0.507812 -4.4375 -0.613281 -4.4375 -0.71875 -4.4375 C -0.832031 -4.4375 -0.925781 -4.4375 -1 -4.4375 L -1 -4.421875 C -0.820312 -4.328125 -0.664062 -4.222656 -0.53125 -4.109375 C -0.394531 -3.992188 -0.28125 -3.863281 -0.1875 -3.71875 C -0.09375 -3.570312 -0.0195312 -3.40625 0.03125 -3.21875 C 0.0820312 -3.03125 0.109375 -2.8125 0.109375 -2.5625 C 0.109375 -2.238281 0.0703125 -1.957031 0 -1.71875 C -0.0820312 -1.488281 -0.207031 -1.296875 -0.375 -1.140625 C -0.539062 -0.992188 -0.75 -0.882812 -1 -0.8125 C -1.257812 -0.75 -1.570312 -0.71875 -1.9375 -0.71875 L -5.8125 -0.71875 Z M -5.8125 -1.6875 \"/>\n",
       "</symbol>\n",
       "<symbol overflow=\"visible\" id=\"glyph2-4\">\n",
       "<path style=\"stroke:none;\" d=\"M 0 -4.4375 L -3.6875 -4.4375 C -3.96875 -4.4375 -4.203125 -4.414062 -4.390625 -4.375 C -4.578125 -4.332031 -4.726562 -4.265625 -4.84375 -4.171875 C -4.96875 -4.078125 -5.050781 -3.953125 -5.09375 -3.796875 C -5.144531 -3.648438 -5.171875 -3.460938 -5.171875 -3.234375 C -5.171875 -3.003906 -5.128906 -2.796875 -5.046875 -2.609375 C -4.972656 -2.429688 -4.859375 -2.273438 -4.703125 -2.140625 C -4.546875 -2.003906 -4.351562 -1.898438 -4.125 -1.828125 C -3.90625 -1.765625 -3.65625 -1.734375 -3.375 -1.734375 L 0 -1.734375 L 0 -0.765625 L -4.578125 -0.765625 C -4.691406 -0.765625 -4.816406 -0.757812 -4.953125 -0.75 C -5.085938 -0.75 -5.210938 -0.75 -5.328125 -0.75 C -5.453125 -0.75 -5.554688 -0.742188 -5.640625 -0.734375 C -5.734375 -0.734375 -5.789062 -0.734375 -5.8125 -0.734375 L -5.8125 -1.640625 C -5.789062 -1.648438 -5.738281 -1.65625 -5.65625 -1.65625 C -5.582031 -1.65625 -5.492188 -1.65625 -5.390625 -1.65625 C -5.296875 -1.664062 -5.191406 -1.671875 -5.078125 -1.671875 C -4.972656 -1.679688 -4.882812 -1.6875 -4.8125 -1.6875 L -4.8125 -1.703125 C -4.988281 -1.796875 -5.144531 -1.894531 -5.28125 -2 C -5.414062 -2.113281 -5.53125 -2.242188 -5.625 -2.390625 C -5.71875 -2.535156 -5.789062 -2.703125 -5.84375 -2.890625 C -5.894531 -3.085938 -5.921875 -3.3125 -5.921875 -3.5625 C -5.921875 -3.882812 -5.878906 -4.160156 -5.796875 -4.390625 C -5.722656 -4.628906 -5.601562 -4.820312 -5.4375 -4.96875 C -5.269531 -5.113281 -5.054688 -5.222656 -4.796875 -5.296875 C -4.535156 -5.367188 -4.226562 -5.40625 -3.875 -5.40625 L 0 -5.40625 Z M 0 -4.4375 \"/>\n",
       "</symbol>\n",
       "<symbol overflow=\"visible\" id=\"glyph2-5\">\n",
       "<path style=\"stroke:none;\" d=\"M -0.046875 -2.96875 C -0.00390625 -2.820312 0.0234375 -2.671875 0.046875 -2.515625 C 0.078125 -2.367188 0.09375 -2.195312 0.09375 -2 C 0.09375 -1.226562 -0.347656 -0.84375 -1.234375 -0.84375 L -5.109375 -0.84375 L -5.109375 -0.171875 L -5.8125 -0.171875 L -5.8125 -0.875 L -7.109375 -1.15625 L -7.109375 -1.8125 L -5.8125 -1.8125 L -5.8125 -2.875 L -5.109375 -2.875 L -5.109375 -1.8125 L -1.4375 -1.8125 C -1.15625 -1.8125 -0.957031 -1.851562 -0.84375 -1.9375 C -0.738281 -2.03125 -0.6875 -2.191406 -0.6875 -2.421875 C -0.6875 -2.515625 -0.691406 -2.601562 -0.703125 -2.6875 C -0.710938 -2.769531 -0.726562 -2.863281 -0.75 -2.96875 Z M -0.046875 -2.96875 \"/>\n",
       "</symbol>\n",
       "</g>\n",
       "<clipPath id=\"clip1\">\n",
       "  <path d=\"M 43.152344 5.480469 L 498.523438 5.480469 L 498.523438 471.851562 L 43.152344 471.851562 Z M 43.152344 5.480469 \"/>\n",
       "</clipPath>\n",
       "<clipPath id=\"clip2\">\n",
       "  <path d=\"M 43.152344 381 L 498.523438 381 L 498.523438 382 L 43.152344 382 Z M 43.152344 381 \"/>\n",
       "</clipPath>\n",
       "<clipPath id=\"clip3\">\n",
       "  <path d=\"M 43.152344 242 L 498.523438 242 L 498.523438 244 L 43.152344 244 Z M 43.152344 242 \"/>\n",
       "</clipPath>\n",
       "<clipPath id=\"clip4\">\n",
       "  <path d=\"M 43.152344 104 L 498.523438 104 L 498.523438 105 L 43.152344 105 Z M 43.152344 104 \"/>\n",
       "</clipPath>\n",
       "<clipPath id=\"clip5\">\n",
       "  <path d=\"M 62 5.480469 L 64 5.480469 L 64 471.851562 L 62 471.851562 Z M 62 5.480469 \"/>\n",
       "</clipPath>\n",
       "<clipPath id=\"clip6\">\n",
       "  <path d=\"M 161 5.480469 L 163 5.480469 L 163 471.851562 L 161 471.851562 Z M 161 5.480469 \"/>\n",
       "</clipPath>\n",
       "<clipPath id=\"clip7\">\n",
       "  <path d=\"M 260 5.480469 L 262 5.480469 L 262 471.851562 L 260 471.851562 Z M 260 5.480469 \"/>\n",
       "</clipPath>\n",
       "<clipPath id=\"clip8\">\n",
       "  <path d=\"M 359 5.480469 L 361 5.480469 L 361 471.851562 L 359 471.851562 Z M 359 5.480469 \"/>\n",
       "</clipPath>\n",
       "<clipPath id=\"clip9\">\n",
       "  <path d=\"M 458 5.480469 L 460 5.480469 L 460 471.851562 L 458 471.851562 Z M 458 5.480469 \"/>\n",
       "</clipPath>\n",
       "<clipPath id=\"clip10\">\n",
       "  <path d=\"M 43.152344 450 L 498.523438 450 L 498.523438 452 L 43.152344 452 Z M 43.152344 450 \"/>\n",
       "</clipPath>\n",
       "<clipPath id=\"clip11\">\n",
       "  <path d=\"M 43.152344 311 L 498.523438 311 L 498.523438 313 L 43.152344 313 Z M 43.152344 311 \"/>\n",
       "</clipPath>\n",
       "<clipPath id=\"clip12\">\n",
       "  <path d=\"M 43.152344 173 L 498.523438 173 L 498.523438 175 L 43.152344 175 Z M 43.152344 173 \"/>\n",
       "</clipPath>\n",
       "<clipPath id=\"clip13\">\n",
       "  <path d=\"M 43.152344 35 L 498.523438 35 L 498.523438 37 L 43.152344 37 Z M 43.152344 35 \"/>\n",
       "</clipPath>\n",
       "<clipPath id=\"clip14\">\n",
       "  <path d=\"M 111 5.480469 L 113 5.480469 L 113 471.851562 L 111 471.851562 Z M 111 5.480469 \"/>\n",
       "</clipPath>\n",
       "<clipPath id=\"clip15\">\n",
       "  <path d=\"M 210 5.480469 L 212 5.480469 L 212 471.851562 L 210 471.851562 Z M 210 5.480469 \"/>\n",
       "</clipPath>\n",
       "<clipPath id=\"clip16\">\n",
       "  <path d=\"M 309 5.480469 L 311 5.480469 L 311 471.851562 L 309 471.851562 Z M 309 5.480469 \"/>\n",
       "</clipPath>\n",
       "<clipPath id=\"clip17\">\n",
       "  <path d=\"M 408 5.480469 L 411 5.480469 L 411 471.851562 L 408 471.851562 Z M 408 5.480469 \"/>\n",
       "</clipPath>\n",
       "</defs>\n",
       "<g id=\"surface73\">\n",
       "<rect x=\"0\" y=\"0\" width=\"504\" height=\"504\" style=\"fill:rgb(100%,100%,100%);fill-opacity:1;stroke:none;\"/>\n",
       "<rect x=\"0\" y=\"0\" width=\"504\" height=\"504\" style=\"fill:rgb(100%,100%,100%);fill-opacity:1;stroke:none;\"/>\n",
       "<path style=\"fill:none;stroke-width:1.066978;stroke-linecap:round;stroke-linejoin:round;stroke:rgb(100%,100%,100%);stroke-opacity:1;stroke-miterlimit:10;\" d=\"M 0 504 L 504 504 L 504 0 L 0 0 Z M 0 504 \"/>\n",
       "<g clip-path=\"url(#clip1)\" clip-rule=\"nonzero\">\n",
       "<path style=\" stroke:none;fill-rule:nonzero;fill:rgb(92.156863%,92.156863%,92.156863%);fill-opacity:1;\" d=\"M 43.152344 471.847656 L 498.523438 471.847656 L 498.523438 5.476562 L 43.152344 5.476562 Z M 43.152344 471.847656 \"/>\n",
       "</g>\n",
       "<g clip-path=\"url(#clip2)\" clip-rule=\"nonzero\">\n",
       "<path style=\"fill:none;stroke-width:0.533489;stroke-linecap:butt;stroke-linejoin:round;stroke:rgb(100%,100%,100%);stroke-opacity:1;stroke-miterlimit:10;\" d=\"M 43.152344 381.464844 L 498.519531 381.464844 \"/>\n",
       "</g>\n",
       "<g clip-path=\"url(#clip3)\" clip-rule=\"nonzero\">\n",
       "<path style=\"fill:none;stroke-width:0.533489;stroke-linecap:butt;stroke-linejoin:round;stroke:rgb(100%,100%,100%);stroke-opacity:1;stroke-miterlimit:10;\" d=\"M 43.152344 243.09375 L 498.519531 243.09375 \"/>\n",
       "</g>\n",
       "<g clip-path=\"url(#clip4)\" clip-rule=\"nonzero\">\n",
       "<path style=\"fill:none;stroke-width:0.533489;stroke-linecap:butt;stroke-linejoin:round;stroke:rgb(100%,100%,100%);stroke-opacity:1;stroke-miterlimit:10;\" d=\"M 43.152344 104.71875 L 498.519531 104.71875 \"/>\n",
       "</g>\n",
       "<g clip-path=\"url(#clip5)\" clip-rule=\"nonzero\">\n",
       "<path style=\"fill:none;stroke-width:0.533489;stroke-linecap:butt;stroke-linejoin:round;stroke:rgb(100%,100%,100%);stroke-opacity:1;stroke-miterlimit:10;\" d=\"M 62.859375 471.847656 L 62.859375 5.480469 \"/>\n",
       "</g>\n",
       "<g clip-path=\"url(#clip6)\" clip-rule=\"nonzero\">\n",
       "<path style=\"fill:none;stroke-width:0.533489;stroke-linecap:butt;stroke-linejoin:round;stroke:rgb(100%,100%,100%);stroke-opacity:1;stroke-miterlimit:10;\" d=\"M 161.894531 471.847656 L 161.894531 5.480469 \"/>\n",
       "</g>\n",
       "<g clip-path=\"url(#clip7)\" clip-rule=\"nonzero\">\n",
       "<path style=\"fill:none;stroke-width:0.533489;stroke-linecap:butt;stroke-linejoin:round;stroke:rgb(100%,100%,100%);stroke-opacity:1;stroke-miterlimit:10;\" d=\"M 260.933594 471.847656 L 260.933594 5.480469 \"/>\n",
       "</g>\n",
       "<g clip-path=\"url(#clip8)\" clip-rule=\"nonzero\">\n",
       "<path style=\"fill:none;stroke-width:0.533489;stroke-linecap:butt;stroke-linejoin:round;stroke:rgb(100%,100%,100%);stroke-opacity:1;stroke-miterlimit:10;\" d=\"M 359.96875 471.847656 L 359.96875 5.480469 \"/>\n",
       "</g>\n",
       "<g clip-path=\"url(#clip9)\" clip-rule=\"nonzero\">\n",
       "<path style=\"fill:none;stroke-width:0.533489;stroke-linecap:butt;stroke-linejoin:round;stroke:rgb(100%,100%,100%);stroke-opacity:1;stroke-miterlimit:10;\" d=\"M 459.003906 471.847656 L 459.003906 5.480469 \"/>\n",
       "</g>\n",
       "<g clip-path=\"url(#clip10)\" clip-rule=\"nonzero\">\n",
       "<path style=\"fill:none;stroke-width:1.066978;stroke-linecap:butt;stroke-linejoin:round;stroke:rgb(100%,100%,100%);stroke-opacity:1;stroke-miterlimit:10;\" d=\"M 43.152344 450.652344 L 498.519531 450.652344 \"/>\n",
       "</g>\n",
       "<g clip-path=\"url(#clip11)\" clip-rule=\"nonzero\">\n",
       "<path style=\"fill:none;stroke-width:1.066978;stroke-linecap:butt;stroke-linejoin:round;stroke:rgb(100%,100%,100%);stroke-opacity:1;stroke-miterlimit:10;\" d=\"M 43.152344 312.277344 L 498.519531 312.277344 \"/>\n",
       "</g>\n",
       "<g clip-path=\"url(#clip12)\" clip-rule=\"nonzero\">\n",
       "<path style=\"fill:none;stroke-width:1.066978;stroke-linecap:butt;stroke-linejoin:round;stroke:rgb(100%,100%,100%);stroke-opacity:1;stroke-miterlimit:10;\" d=\"M 43.152344 173.90625 L 498.519531 173.90625 \"/>\n",
       "</g>\n",
       "<g clip-path=\"url(#clip13)\" clip-rule=\"nonzero\">\n",
       "<path style=\"fill:none;stroke-width:1.066978;stroke-linecap:butt;stroke-linejoin:round;stroke:rgb(100%,100%,100%);stroke-opacity:1;stroke-miterlimit:10;\" d=\"M 43.152344 35.535156 L 498.519531 35.535156 \"/>\n",
       "</g>\n",
       "<g clip-path=\"url(#clip14)\" clip-rule=\"nonzero\">\n",
       "<path style=\"fill:none;stroke-width:1.066978;stroke-linecap:butt;stroke-linejoin:round;stroke:rgb(100%,100%,100%);stroke-opacity:1;stroke-miterlimit:10;\" d=\"M 112.378906 471.847656 L 112.378906 5.480469 \"/>\n",
       "</g>\n",
       "<g clip-path=\"url(#clip15)\" clip-rule=\"nonzero\">\n",
       "<path style=\"fill:none;stroke-width:1.066978;stroke-linecap:butt;stroke-linejoin:round;stroke:rgb(100%,100%,100%);stroke-opacity:1;stroke-miterlimit:10;\" d=\"M 211.414062 471.847656 L 211.414062 5.480469 \"/>\n",
       "</g>\n",
       "<g clip-path=\"url(#clip16)\" clip-rule=\"nonzero\">\n",
       "<path style=\"fill:none;stroke-width:1.066978;stroke-linecap:butt;stroke-linejoin:round;stroke:rgb(100%,100%,100%);stroke-opacity:1;stroke-miterlimit:10;\" d=\"M 310.449219 471.847656 L 310.449219 5.480469 \"/>\n",
       "</g>\n",
       "<g clip-path=\"url(#clip17)\" clip-rule=\"nonzero\">\n",
       "<path style=\"fill:none;stroke-width:1.066978;stroke-linecap:butt;stroke-linejoin:round;stroke:rgb(100%,100%,100%);stroke-opacity:1;stroke-miterlimit:10;\" d=\"M 409.488281 471.847656 L 409.488281 5.480469 \"/>\n",
       "</g>\n",
       "<path style=\" stroke:none;fill-rule:nonzero;fill:rgb(34.901961%,34.901961%,34.901961%);fill-opacity:1;\" d=\"M 63.847656 450.652344 L 81.675781 450.652344 L 81.675781 254.300781 L 63.847656 254.300781 Z M 63.847656 450.652344 \"/>\n",
       "<path style=\" stroke:none;fill-rule:nonzero;fill:rgb(34.901961%,34.901961%,34.901961%);fill-opacity:1;\" d=\"M 83.65625 450.652344 L 101.484375 450.652344 L 101.484375 280.453125 L 83.65625 280.453125 Z M 83.65625 450.652344 \"/>\n",
       "<path style=\" stroke:none;fill-rule:nonzero;fill:rgb(34.901961%,34.901961%,34.901961%);fill-opacity:1;\" d=\"M 103.464844 450.652344 L 121.292969 450.652344 L 121.292969 254.71875 L 103.464844 254.71875 Z M 103.464844 450.652344 \"/>\n",
       "<path style=\" stroke:none;fill-rule:nonzero;fill:rgb(34.901961%,34.901961%,34.901961%);fill-opacity:1;\" d=\"M 123.269531 450.652344 L 141.097656 450.652344 L 141.097656 247.660156 L 123.269531 247.660156 Z M 123.269531 450.652344 \"/>\n",
       "<path style=\" stroke:none;fill-rule:nonzero;fill:rgb(34.901961%,34.901961%,34.901961%);fill-opacity:1;\" d=\"M 143.078125 450.652344 L 160.90625 450.652344 L 160.90625 284.191406 L 143.078125 284.191406 Z M 143.078125 450.652344 \"/>\n",
       "<path style=\" stroke:none;fill-rule:nonzero;fill:rgb(34.901961%,34.901961%,34.901961%);fill-opacity:1;\" d=\"M 162.886719 450.652344 L 180.714844 450.652344 L 180.714844 287.925781 L 162.886719 287.925781 Z M 162.886719 450.652344 \"/>\n",
       "<path style=\" stroke:none;fill-rule:nonzero;fill:rgb(34.901961%,34.901961%,34.901961%);fill-opacity:1;\" d=\"M 182.691406 450.652344 L 200.519531 450.652344 L 200.519531 223.582031 L 182.691406 223.582031 Z M 182.691406 450.652344 \"/>\n",
       "<path style=\" stroke:none;fill-rule:nonzero;fill:rgb(34.901961%,34.901961%,34.901961%);fill-opacity:1;\" d=\"M 202.5 450.652344 L 220.328125 450.652344 L 220.328125 219.710938 L 202.5 219.710938 Z M 202.5 450.652344 \"/>\n",
       "<path style=\" stroke:none;fill-rule:nonzero;fill:rgb(34.901961%,34.901961%,34.901961%);fill-opacity:1;\" d=\"M 222.308594 450.652344 L 240.136719 450.652344 L 240.136719 240.742188 L 222.308594 240.742188 Z M 222.308594 450.652344 \"/>\n",
       "<path style=\" stroke:none;fill-rule:nonzero;fill:rgb(34.901961%,34.901961%,34.901961%);fill-opacity:1;\" d=\"M 242.113281 450.652344 L 259.941406 450.652344 L 259.941406 199.230469 L 242.113281 199.230469 Z M 242.113281 450.652344 \"/>\n",
       "<path style=\" stroke:none;fill-rule:nonzero;fill:rgb(34.901961%,34.901961%,34.901961%);fill-opacity:1;\" d=\"M 261.921875 450.652344 L 279.75 450.652344 L 279.75 169.480469 L 261.921875 169.480469 Z M 261.921875 450.652344 \"/>\n",
       "<path style=\" stroke:none;fill-rule:nonzero;fill:rgb(34.901961%,34.901961%,34.901961%);fill-opacity:1;\" d=\"M 281.730469 450.652344 L 299.558594 450.652344 L 299.558594 110.117188 L 281.730469 110.117188 Z M 281.730469 450.652344 \"/>\n",
       "<path style=\" stroke:none;fill-rule:nonzero;fill:rgb(34.901961%,34.901961%,34.901961%);fill-opacity:1;\" d=\"M 301.535156 450.652344 L 319.363281 450.652344 L 319.363281 26.679688 L 301.535156 26.679688 Z M 301.535156 450.652344 \"/>\n",
       "<path style=\" stroke:none;fill-rule:nonzero;fill:rgb(34.901961%,34.901961%,34.901961%);fill-opacity:1;\" d=\"M 321.34375 450.652344 L 339.171875 450.652344 L 339.171875 85.765625 L 321.34375 85.765625 Z M 321.34375 450.652344 \"/>\n",
       "<path style=\" stroke:none;fill-rule:nonzero;fill:rgb(34.901961%,34.901961%,34.901961%);fill-opacity:1;\" d=\"M 341.152344 450.652344 L 358.980469 450.652344 L 358.980469 145.957031 L 341.152344 145.957031 Z M 341.152344 450.652344 \"/>\n",
       "<path style=\" stroke:none;fill-rule:nonzero;fill:rgb(34.901961%,34.901961%,34.901961%);fill-opacity:1;\" d=\"M 360.957031 450.652344 L 378.785156 450.652344 L 378.785156 150.800781 L 360.957031 150.800781 Z M 360.957031 450.652344 \"/>\n",
       "<path style=\" stroke:none;fill-rule:nonzero;fill:rgb(34.901961%,34.901961%,34.901961%);fill-opacity:1;\" d=\"M 380.765625 450.652344 L 398.59375 450.652344 L 398.59375 143.328125 L 380.765625 143.328125 Z M 380.765625 450.652344 \"/>\n",
       "<path style=\" stroke:none;fill-rule:nonzero;fill:rgb(34.901961%,34.901961%,34.901961%);fill-opacity:1;\" d=\"M 400.574219 450.652344 L 418.402344 450.652344 L 418.402344 175.707031 L 400.574219 175.707031 Z M 400.574219 450.652344 \"/>\n",
       "<path style=\" stroke:none;fill-rule:nonzero;fill:rgb(34.901961%,34.901961%,34.901961%);fill-opacity:1;\" d=\"M 420.378906 450.652344 L 438.207031 450.652344 L 438.207031 248.628906 L 420.378906 248.628906 Z M 420.378906 450.652344 \"/>\n",
       "<path style=\" stroke:none;fill-rule:nonzero;fill:rgb(34.901961%,34.901961%,34.901961%);fill-opacity:1;\" d=\"M 440.1875 450.652344 L 458.015625 450.652344 L 458.015625 239.082031 L 440.1875 239.082031 Z M 440.1875 450.652344 \"/>\n",
       "<path style=\" stroke:none;fill-rule:nonzero;fill:rgb(34.901961%,34.901961%,34.901961%);fill-opacity:1;\" d=\"M 459.996094 450.652344 L 477.824219 450.652344 L 477.824219 315.738281 L 459.996094 315.738281 Z M 459.996094 450.652344 \"/>\n",
       "<g style=\"fill:rgb(30.196078%,30.196078%,30.196078%);fill-opacity:1;\">\n",
       "  <use xlink:href=\"#glyph0-1\" x=\"33.21875\" y=\"454.118164\"/>\n",
       "</g>\n",
       "<g style=\"fill:rgb(30.196078%,30.196078%,30.196078%);fill-opacity:1;\">\n",
       "  <use xlink:href=\"#glyph0-2\" x=\"18.21875\" y=\"315.743164\"/>\n",
       "  <use xlink:href=\"#glyph0-1\" x=\"23.21875\" y=\"315.743164\"/>\n",
       "  <use xlink:href=\"#glyph0-1\" x=\"28.21875\" y=\"315.743164\"/>\n",
       "  <use xlink:href=\"#glyph0-1\" x=\"33.21875\" y=\"315.743164\"/>\n",
       "</g>\n",
       "<g style=\"fill:rgb(30.196078%,30.196078%,30.196078%);fill-opacity:1;\">\n",
       "  <use xlink:href=\"#glyph0-3\" x=\"18.21875\" y=\"177.37207\"/>\n",
       "  <use xlink:href=\"#glyph0-1\" x=\"23.21875\" y=\"177.37207\"/>\n",
       "  <use xlink:href=\"#glyph0-1\" x=\"28.21875\" y=\"177.37207\"/>\n",
       "  <use xlink:href=\"#glyph0-1\" x=\"33.21875\" y=\"177.37207\"/>\n",
       "</g>\n",
       "<g style=\"fill:rgb(30.196078%,30.196078%,30.196078%);fill-opacity:1;\">\n",
       "  <use xlink:href=\"#glyph0-4\" x=\"18.21875\" y=\"39.000977\"/>\n",
       "  <use xlink:href=\"#glyph0-1\" x=\"23.21875\" y=\"39.000977\"/>\n",
       "  <use xlink:href=\"#glyph0-1\" x=\"28.21875\" y=\"39.000977\"/>\n",
       "  <use xlink:href=\"#glyph0-1\" x=\"33.21875\" y=\"39.000977\"/>\n",
       "</g>\n",
       "<path style=\"fill:none;stroke-width:1.066978;stroke-linecap:butt;stroke-linejoin:round;stroke:rgb(20%,20%,20%);stroke-opacity:1;stroke-miterlimit:10;\" d=\"M 40.410156 450.652344 L 43.152344 450.652344 \"/>\n",
       "<path style=\"fill:none;stroke-width:1.066978;stroke-linecap:butt;stroke-linejoin:round;stroke:rgb(20%,20%,20%);stroke-opacity:1;stroke-miterlimit:10;\" d=\"M 40.410156 312.277344 L 43.152344 312.277344 \"/>\n",
       "<path style=\"fill:none;stroke-width:1.066978;stroke-linecap:butt;stroke-linejoin:round;stroke:rgb(20%,20%,20%);stroke-opacity:1;stroke-miterlimit:10;\" d=\"M 40.410156 173.90625 L 43.152344 173.90625 \"/>\n",
       "<path style=\"fill:none;stroke-width:1.066978;stroke-linecap:butt;stroke-linejoin:round;stroke:rgb(20%,20%,20%);stroke-opacity:1;stroke-miterlimit:10;\" d=\"M 40.410156 35.535156 L 43.152344 35.535156 \"/>\n",
       "<path style=\"fill:none;stroke-width:1.066978;stroke-linecap:butt;stroke-linejoin:round;stroke:rgb(20%,20%,20%);stroke-opacity:1;stroke-miterlimit:10;\" d=\"M 112.378906 474.589844 L 112.378906 471.847656 \"/>\n",
       "<path style=\"fill:none;stroke-width:1.066978;stroke-linecap:butt;stroke-linejoin:round;stroke:rgb(20%,20%,20%);stroke-opacity:1;stroke-miterlimit:10;\" d=\"M 211.414062 474.589844 L 211.414062 471.847656 \"/>\n",
       "<path style=\"fill:none;stroke-width:1.066978;stroke-linecap:butt;stroke-linejoin:round;stroke:rgb(20%,20%,20%);stroke-opacity:1;stroke-miterlimit:10;\" d=\"M 310.449219 474.589844 L 310.449219 471.847656 \"/>\n",
       "<path style=\"fill:none;stroke-width:1.066978;stroke-linecap:butt;stroke-linejoin:round;stroke:rgb(20%,20%,20%);stroke-opacity:1;stroke-miterlimit:10;\" d=\"M 409.488281 474.589844 L 409.488281 471.847656 \"/>\n",
       "<g style=\"fill:rgb(30.196078%,30.196078%,30.196078%);fill-opacity:1;\">\n",
       "  <use xlink:href=\"#glyph0-3\" x=\"102.378906\" y=\"483.74707\"/>\n",
       "  <use xlink:href=\"#glyph0-1\" x=\"107.378906\" y=\"483.74707\"/>\n",
       "  <use xlink:href=\"#glyph0-1\" x=\"112.378906\" y=\"483.74707\"/>\n",
       "  <use xlink:href=\"#glyph0-5\" x=\"117.378906\" y=\"483.74707\"/>\n",
       "</g>\n",
       "<g style=\"fill:rgb(30.196078%,30.196078%,30.196078%);fill-opacity:1;\">\n",
       "  <use xlink:href=\"#glyph0-3\" x=\"201.414062\" y=\"483.74707\"/>\n",
       "  <use xlink:href=\"#glyph0-1\" x=\"206.414062\" y=\"483.74707\"/>\n",
       "  <use xlink:href=\"#glyph0-2\" x=\"211.414062\" y=\"483.74707\"/>\n",
       "  <use xlink:href=\"#glyph0-1\" x=\"216.414062\" y=\"483.74707\"/>\n",
       "</g>\n",
       "<g style=\"fill:rgb(30.196078%,30.196078%,30.196078%);fill-opacity:1;\">\n",
       "  <use xlink:href=\"#glyph0-3\" x=\"300.449219\" y=\"483.74707\"/>\n",
       "  <use xlink:href=\"#glyph0-1\" x=\"305.449219\" y=\"483.74707\"/>\n",
       "  <use xlink:href=\"#glyph0-2\" x=\"310.449219\" y=\"483.74707\"/>\n",
       "  <use xlink:href=\"#glyph0-5\" x=\"315.449219\" y=\"483.74707\"/>\n",
       "</g>\n",
       "<g style=\"fill:rgb(30.196078%,30.196078%,30.196078%);fill-opacity:1;\">\n",
       "  <use xlink:href=\"#glyph0-3\" x=\"399.488281\" y=\"483.74707\"/>\n",
       "  <use xlink:href=\"#glyph0-1\" x=\"404.488281\" y=\"483.74707\"/>\n",
       "  <use xlink:href=\"#glyph0-3\" x=\"409.488281\" y=\"483.74707\"/>\n",
       "  <use xlink:href=\"#glyph0-1\" x=\"414.488281\" y=\"483.74707\"/>\n",
       "</g>\n",
       "<g style=\"fill:rgb(0%,0%,0%);fill-opacity:1;\">\n",
       "  <use xlink:href=\"#glyph1-1\" x=\"256.335938\" y=\"496.477539\"/>\n",
       "  <use xlink:href=\"#glyph1-2\" x=\"263.335938\" y=\"496.477539\"/>\n",
       "  <use xlink:href=\"#glyph1-3\" x=\"270.335938\" y=\"496.477539\"/>\n",
       "  <use xlink:href=\"#glyph1-4\" x=\"277.335938\" y=\"496.477539\"/>\n",
       "</g>\n",
       "<g style=\"fill:rgb(0%,0%,0%);fill-opacity:1;\">\n",
       "  <use xlink:href=\"#glyph2-1\" x=\"13.438477\" y=\"252.164062\"/>\n",
       "  <use xlink:href=\"#glyph2-2\" x=\"13.438477\" y=\"246.164062\"/>\n",
       "  <use xlink:href=\"#glyph2-3\" x=\"13.438477\" y=\"240.164062\"/>\n",
       "  <use xlink:href=\"#glyph2-4\" x=\"13.438477\" y=\"234.164062\"/>\n",
       "  <use xlink:href=\"#glyph2-5\" x=\"13.438477\" y=\"228.164062\"/>\n",
       "</g>\n",
       "</g>\n",
       "</svg>\n"
      ],
      "text/plain": [
       "plot without title"
      ]
     },
     "metadata": {
      "application/pdf": {
       "height": 420,
       "width": 420
      },
      "image/jpeg": {
       "height": 420,
       "width": 420
      },
      "image/png": {
       "height": 420,
       "width": 420
      },
      "image/svg+xml": {
       "height": 420,
       "isolated": true,
       "width": 420
      }
     },
     "output_type": "display_data"
    }
   ],
   "source": [
    "data_vis <- crimedata_summary %>%\n",
    "            ggplot(aes(x = YEAR, y = count)) +\n",
    "            geom_bar(stat = \"identity\")\n",
    "\n",
    "data_vis"
   ]
  },
  {
   "cell_type": "code",
   "execution_count": 7,
   "id": "6bc1d867-347c-4eb2-a6f2-b6bd80c788f2",
   "metadata": {
    "tags": []
   },
   "outputs": [
    {
     "data": {
      "text/html": [
       "<table class=\"dataframe\">\n",
       "<caption>A data.frame: 6 × 2</caption>\n",
       "<thead>\n",
       "\t<tr><th></th><th scope=col>TYPE</th><th scope=col>YEAR</th></tr>\n",
       "\t<tr><th></th><th scope=col>&lt;chr&gt;</th><th scope=col>&lt;int&gt;</th></tr>\n",
       "</thead>\n",
       "<tbody>\n",
       "\t<tr><th scope=row>1</th><td>Theft of Bicycle</td><td>2005</td></tr>\n",
       "\t<tr><th scope=row>2</th><td>Theft of Bicycle</td><td>2006</td></tr>\n",
       "\t<tr><th scope=row>3</th><td>Theft of Bicycle</td><td>2006</td></tr>\n",
       "\t<tr><th scope=row>4</th><td>Theft of Bicycle</td><td>2003</td></tr>\n",
       "\t<tr><th scope=row>5</th><td>Theft of Bicycle</td><td>2004</td></tr>\n",
       "\t<tr><th scope=row>6</th><td>Theft of Bicycle</td><td>2004</td></tr>\n",
       "</tbody>\n",
       "</table>\n"
      ],
      "text/latex": [
       "A data.frame: 6 × 2\n",
       "\\begin{tabular}{r|ll}\n",
       "  & TYPE & YEAR\\\\\n",
       "  & <chr> & <int>\\\\\n",
       "\\hline\n",
       "\t1 & Theft of Bicycle & 2005\\\\\n",
       "\t2 & Theft of Bicycle & 2006\\\\\n",
       "\t3 & Theft of Bicycle & 2006\\\\\n",
       "\t4 & Theft of Bicycle & 2003\\\\\n",
       "\t5 & Theft of Bicycle & 2004\\\\\n",
       "\t6 & Theft of Bicycle & 2004\\\\\n",
       "\\end{tabular}\n"
      ],
      "text/markdown": [
       "\n",
       "A data.frame: 6 × 2\n",
       "\n",
       "| <!--/--> | TYPE &lt;chr&gt; | YEAR &lt;int&gt; |\n",
       "|---|---|---|\n",
       "| 1 | Theft of Bicycle | 2005 |\n",
       "| 2 | Theft of Bicycle | 2006 |\n",
       "| 3 | Theft of Bicycle | 2006 |\n",
       "| 4 | Theft of Bicycle | 2003 |\n",
       "| 5 | Theft of Bicycle | 2004 |\n",
       "| 6 | Theft of Bicycle | 2004 |\n",
       "\n"
      ],
      "text/plain": [
       "  TYPE             YEAR\n",
       "1 Theft of Bicycle 2005\n",
       "2 Theft of Bicycle 2006\n",
       "3 Theft of Bicycle 2006\n",
       "4 Theft of Bicycle 2003\n",
       "5 Theft of Bicycle 2004\n",
       "6 Theft of Bicycle 2004"
      ]
     },
     "metadata": {},
     "output_type": "display_data"
    },
    {
     "data": {
      "text/html": [
       "<table class=\"dataframe\">\n",
       "<caption>A data.frame: 6 × 2</caption>\n",
       "<thead>\n",
       "\t<tr><th></th><th scope=col>TYPE</th><th scope=col>YEAR</th></tr>\n",
       "\t<tr><th></th><th scope=col>&lt;chr&gt;</th><th scope=col>&lt;int&gt;</th></tr>\n",
       "</thead>\n",
       "<tbody>\n",
       "\t<tr><th scope=row>1</th><td>Theft of Bicycle</td><td>2008</td></tr>\n",
       "\t<tr><th scope=row>2</th><td>Theft of Bicycle</td><td>2009</td></tr>\n",
       "\t<tr><th scope=row>3</th><td>Theft of Bicycle</td><td>2011</td></tr>\n",
       "\t<tr><th scope=row>4</th><td>Theft of Bicycle</td><td>2015</td></tr>\n",
       "\t<tr><th scope=row>5</th><td>Theft of Bicycle</td><td>2012</td></tr>\n",
       "\t<tr><th scope=row>6</th><td>Theft of Bicycle</td><td>2015</td></tr>\n",
       "</tbody>\n",
       "</table>\n"
      ],
      "text/latex": [
       "A data.frame: 6 × 2\n",
       "\\begin{tabular}{r|ll}\n",
       "  & TYPE & YEAR\\\\\n",
       "  & <chr> & <int>\\\\\n",
       "\\hline\n",
       "\t1 & Theft of Bicycle & 2008\\\\\n",
       "\t2 & Theft of Bicycle & 2009\\\\\n",
       "\t3 & Theft of Bicycle & 2011\\\\\n",
       "\t4 & Theft of Bicycle & 2015\\\\\n",
       "\t5 & Theft of Bicycle & 2012\\\\\n",
       "\t6 & Theft of Bicycle & 2015\\\\\n",
       "\\end{tabular}\n"
      ],
      "text/markdown": [
       "\n",
       "A data.frame: 6 × 2\n",
       "\n",
       "| <!--/--> | TYPE &lt;chr&gt; | YEAR &lt;int&gt; |\n",
       "|---|---|---|\n",
       "| 1 | Theft of Bicycle | 2008 |\n",
       "| 2 | Theft of Bicycle | 2009 |\n",
       "| 3 | Theft of Bicycle | 2011 |\n",
       "| 4 | Theft of Bicycle | 2015 |\n",
       "| 5 | Theft of Bicycle | 2012 |\n",
       "| 6 | Theft of Bicycle | 2015 |\n",
       "\n"
      ],
      "text/plain": [
       "  TYPE             YEAR\n",
       "1 Theft of Bicycle 2008\n",
       "2 Theft of Bicycle 2009\n",
       "3 Theft of Bicycle 2011\n",
       "4 Theft of Bicycle 2015\n",
       "5 Theft of Bicycle 2012\n",
       "6 Theft of Bicycle 2015"
      ]
     },
     "metadata": {},
     "output_type": "display_data"
    },
    {
     "data": {
      "text/html": [
       "<table class=\"dataframe\">\n",
       "<caption>A data.frame: 6 × 2</caption>\n",
       "<thead>\n",
       "\t<tr><th></th><th scope=col>TYPE</th><th scope=col>YEAR</th></tr>\n",
       "\t<tr><th></th><th scope=col>&lt;chr&gt;</th><th scope=col>&lt;int&gt;</th></tr>\n",
       "</thead>\n",
       "<tbody>\n",
       "\t<tr><th scope=row>1</th><td>Theft of Bicycle</td><td>2023</td></tr>\n",
       "\t<tr><th scope=row>2</th><td>Theft of Bicycle</td><td>2017</td></tr>\n",
       "\t<tr><th scope=row>3</th><td>Theft of Bicycle</td><td>2021</td></tr>\n",
       "\t<tr><th scope=row>4</th><td>Theft of Bicycle</td><td>2018</td></tr>\n",
       "\t<tr><th scope=row>5</th><td>Theft of Bicycle</td><td>2022</td></tr>\n",
       "\t<tr><th scope=row>6</th><td>Theft of Bicycle</td><td>2022</td></tr>\n",
       "</tbody>\n",
       "</table>\n"
      ],
      "text/latex": [
       "A data.frame: 6 × 2\n",
       "\\begin{tabular}{r|ll}\n",
       "  & TYPE & YEAR\\\\\n",
       "  & <chr> & <int>\\\\\n",
       "\\hline\n",
       "\t1 & Theft of Bicycle & 2023\\\\\n",
       "\t2 & Theft of Bicycle & 2017\\\\\n",
       "\t3 & Theft of Bicycle & 2021\\\\\n",
       "\t4 & Theft of Bicycle & 2018\\\\\n",
       "\t5 & Theft of Bicycle & 2022\\\\\n",
       "\t6 & Theft of Bicycle & 2022\\\\\n",
       "\\end{tabular}\n"
      ],
      "text/markdown": [
       "\n",
       "A data.frame: 6 × 2\n",
       "\n",
       "| <!--/--> | TYPE &lt;chr&gt; | YEAR &lt;int&gt; |\n",
       "|---|---|---|\n",
       "| 1 | Theft of Bicycle | 2023 |\n",
       "| 2 | Theft of Bicycle | 2017 |\n",
       "| 3 | Theft of Bicycle | 2021 |\n",
       "| 4 | Theft of Bicycle | 2018 |\n",
       "| 5 | Theft of Bicycle | 2022 |\n",
       "| 6 | Theft of Bicycle | 2022 |\n",
       "\n"
      ],
      "text/plain": [
       "  TYPE             YEAR\n",
       "1 Theft of Bicycle 2023\n",
       "2 Theft of Bicycle 2017\n",
       "3 Theft of Bicycle 2021\n",
       "4 Theft of Bicycle 2018\n",
       "5 Theft of Bicycle 2022\n",
       "6 Theft of Bicycle 2022"
      ]
     },
     "metadata": {},
     "output_type": "display_data"
    }
   ],
   "source": [
    "crimedata_palmer <- crimedata_filtered %>%\n",
    "                    filter(YEAR <= 2007)\n",
    "crimedata_chu <- crimedata_filtered %>%\n",
    "                    filter(YEAR > 2007 & YEAR <= 2015)\n",
    "crimedata_graham <- crimedata_filtered %>%\n",
    "                    filter(YEAR > 2015)\n",
    "\n",
    "head(crimedata_palmer)\n",
    "head(crimedata_chu)\n",
    "head(crimedata_graham)"
   ]
  },
  {
   "cell_type": "code",
   "execution_count": 18,
   "id": "06579323-66c3-426f-a56c-c0760684d3f3",
   "metadata": {
    "tags": []
   },
   "outputs": [
    {
     "data": {
      "text/html": [
       "1347"
      ],
      "text/latex": [
       "1347"
      ],
      "text/markdown": [
       "1347"
      ],
      "text/plain": [
       "[1] 1347"
      ]
     },
     "metadata": {},
     "output_type": "display_data"
    },
    {
     "data": {
      "text/html": [
       "1922.125"
      ],
      "text/latex": [
       "1922.125"
      ],
      "text/markdown": [
       "1922.125"
      ],
      "text/plain": [
       "[1] 1922.125"
      ]
     },
     "metadata": {},
     "output_type": "display_data"
    },
    {
     "data": {
      "text/html": [
       "1897.25"
      ],
      "text/latex": [
       "1897.25"
      ],
      "text/markdown": [
       "1897.25"
      ],
      "text/plain": [
       "[1] 1897.25"
      ]
     },
     "metadata": {},
     "output_type": "display_data"
    }
   ],
   "source": [
    "palmer_year_summary <- crimedata_palmer %>%\n",
    "                        group_by(YEAR) %>%\n",
    "                        summarize(count = n())\n",
    "\n",
    "palmer_mean <- palmer_year_summary %>%\n",
    "                select(count) %>%\n",
    "                summarize(mean_theft = mean(count)) %>%\n",
    "                pull() \n",
    "\n",
    "chu_year_summary <- crimedata_chu %>%\n",
    "                        group_by(YEAR) %>%\n",
    "                        summarize(count = n())\n",
    "\n",
    "chu_mean <- chu_year_summary %>%\n",
    "                select(count) %>%\n",
    "                summarize(mean_theft = mean(count)) %>%\n",
    "                pull() \n",
    "\n",
    "graham_year_summary <- crimedata_graham %>%\n",
    "                        group_by(YEAR) %>%\n",
    "                        summarize(count = n())\n",
    "\n",
    "graham_mean <- graham_year_summary %>%\n",
    "                select(count) %>%\n",
    "                summarize(mean_theft = mean(count)) %>%\n",
    "                pull() \n",
    "\n",
    "palmer_mean\n",
    "chu_mean\n",
    "graham_mean"
   ]
  },
  {
   "cell_type": "markdown",
   "id": "744a3bf8-42c0-4f56-8ff7-a7ef8113c61f",
   "metadata": {},
   "source": [
    "## Method Plan"
   ]
  },
  {
   "cell_type": "markdown",
   "id": "b3484163-39a9-447e-afbb-e235e0d3cf99",
   "metadata": {},
   "source": [
    "The previous sections will carry over to your final report (you’ll be allowed to improve them based on feedback you get). Begin this Methods section with a brief description of “the good things” about this report – specifically, in what ways is this report trustworthy?\n",
    "\n",
    "Continue by explaining why the plot(s) and estimates that you produced are not enough to give to a stakeholder, and what you should provide in addition to address this gap. Make sure your plans include at least one hypothesis test and one confidence interval. If possible, compare both the bootstrapping and asymptotics methods.\n",
    "\n",
    "Finish this section by reflecting on how your final report might play out:\n",
    "\n",
    "* What do you expect to find?\n",
    "* What impact could such findings have?\n",
    "* What future questions could this lead to?"
   ]
  },
  {
   "cell_type": "markdown",
   "id": "1f71277e-be8a-4c4d-bfc3-730e575dc6c1",
   "metadata": {},
   "source": [
    "## References"
   ]
  },
  {
   "cell_type": "markdown",
   "id": "706e3b29-d326-4f41-a570-5ba3134a85b1",
   "metadata": {},
   "source": [
    "At least two citations of literature relevant to the project. The citation format is your choice – just be consistent. Make sure to cite the source of your data as well."
   ]
  },
  {
   "cell_type": "code",
   "execution_count": null,
   "id": "e547ca74-5caf-427a-b89c-faef167450e4",
   "metadata": {},
   "outputs": [],
   "source": []
  }
 ],
 "metadata": {
  "kernelspec": {
   "display_name": "R",
   "language": "R",
   "name": "ir"
  },
  "language_info": {
   "codemirror_mode": "r",
   "file_extension": ".r",
   "mimetype": "text/x-r-source",
   "name": "R",
   "pygments_lexer": "r",
   "version": "4.2.3"
  }
 },
 "nbformat": 4,
 "nbformat_minor": 5
}
