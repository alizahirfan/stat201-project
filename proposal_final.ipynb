{
 "cells": [
  {
   "cell_type": "markdown",
   "id": "1adbf6f9-c478-446b-b471-1950eeb8f398",
   "metadata": {},
   "source": [
    "# **Did Average Annual Bike Theft Change Significantly During Jim Chu's Tenure as VPD Chief Constable in Vancouver (2007-2015)?**"
   ]
  },
  {
   "cell_type": "markdown",
   "id": "e0bcf03b-9a15-4923-8a83-31fe62f8937b",
   "metadata": {
    "tags": []
   },
   "source": [
    "### Group 46: Alizah Irfan, Jessie Zhao, Ayaan Ahuja, Mehardeep Singh"
   ]
  },
  {
   "cell_type": "markdown",
   "id": "623b1163-7744-4979-b76e-e5e6a1598827",
   "metadata": {},
   "source": [
    "# Introduction\n",
    "In the context of a transition in law enforcement leadership, the impact on crime rates is a topic of great concern. The Vancouver Police Department, a key pillar of law enforcement, was led by three police chiefs from 2003 to 2023 ([Vancouver Police Department](https://vpd.ca/about-the-vpd/executive-team/)). The Chief of Police serves as the highest echelon of the police force. It plays a key role in developing law enforcement strategies, resource allocation, and the overall safety and security of the community (Marquis, 1993). \n",
    "### Research Question\n",
    "Our research sought to understand whether Jim Zhu's appointment as police chief brought about a significant shift in crime dynamics, focusing specifically on the annual bike theft rate. In this investigation, we intend to compare Jim Chu's tenure with that of his predecessor, Jamie Graham, and his successor, Adam Palmer.\n",
    "### Variables\n",
    "To address this question, we used statistical inference techniques to analyze the average annual number of bike thefts. We consider the average annual number of bike theft as our location parameter, a variable that provides the core measure of bike theft rates for the period in question. We also study standard deviation as a scaling parameter to measure the variability and distribution of bike theft numbers. We selected the average annual number of bike thefts as the location parameter to encapsulate the central tendency, reflecting the typical impact of bike theft during Chief Constable Jim Chu's tenure, enabling a temporal comparison. The standard deviation serves as the scale parameter, providing insight into the annual fluctuations of theft incidents, which is crucial for assessing the data's consistency and the efficacy of law enforcement strategies over the years.\n",
    "### Hypotheses\n",
    "#### For the location parameter (average annual number of bike thefts):\n",
    "- Null Hypothesis: There is no significant difference in the average annual number of bike thefts during Jim Chu's tenure compared to other periods. $H_0: \\mu_{\\text{Chu}} = \\mu_{\\text{other}}$\n",
    "- Alternative Hypothesis: There is a significant difference in the average annual number of bike thefts during Jim Chu's tenure compared to other periods. $H_A: \\mu_{\\text{Chu}} \\neq \\mu_{\\text{other}}$\n",
    "\n",
    "#### For the scale parameter (standard deviation):\n",
    "- Null Hypothesis: There is no significant difference in the variability of annual bike thefts during Jim Chu's tenure compared to other periods. $H_0: \\sigma_{\\text{Chu}} = \\sigma_{\\text{other}}$\n",
    "- Alternative Hypothesis: There is a significant difference in the variability of annual bike thefts during Jim Chu's tenure compared to other periods. $H_A: \\sigma_{\\text{Chu}} \\neq \\sigma_{\\text{other}}$\n",
    "\n",
    "### Dataset Description\n",
    "Our dataset is derived from the Vancouver Police Department's open data repository and contains crime data from 2003 to 2023 ([Vancouver Police Department (VPD) crime data](https://geodash.vpd.ca/opendata/)). Each row represents a reported crime with different variables including crime type, as well as the neighborhood, date (day, month, year), time, and street location the crime occured. For the purposes of our research, we will examine the crime type and year for each record. We'll group the data by year and calculate the average number of bike thefts per year during each police chief's tenure. We will then determine whether the difference in estimated means is significant.\n",
    "It is important to recognize that “between 25 to 40 per cent of bike thefts go unreported” (CBC, 2020). Thus, the dataset will represent a sample of all stolen bikes in Vancouver. "
   ]
  },
  {
   "cell_type": "markdown",
   "id": "490d6bd4-72bc-476d-940f-acd780a1cf9c",
   "metadata": {},
   "source": [
    "# Preliminary Results\n",
    "### Loading Packages\n",
    "Our data analysis commenced with the loading of essential R packages, including `tideverse` and `infer`. These packages provide tools for data cleaning, visualization, and conducting statistical inferences. To ensure accessibility and readability, we also customized the plot dimensions and selected color palettes suitable for individuals with color vision impairments.\n"
   ]
  },
  {
   "cell_type": "code",
   "execution_count": null,
   "id": "d78cbf3e-9004-42ef-be8b-e94c787f6ea0",
   "metadata": {
    "tags": []
   },
   "outputs": [
    {
     "name": "stderr",
     "output_type": "stream",
     "text": [
      "── \u001b[1mAttaching core tidyverse packages\u001b[22m ──────────────────────── tidyverse 2.0.0 ──\n",
      "\u001b[32m✔\u001b[39m \u001b[34mdplyr    \u001b[39m 1.1.3     \u001b[32m✔\u001b[39m \u001b[34mreadr    \u001b[39m 2.1.4\n",
      "\u001b[32m✔\u001b[39m \u001b[34mforcats  \u001b[39m 1.0.0     \u001b[32m✔\u001b[39m \u001b[34mstringr  \u001b[39m 1.5.0\n",
      "\u001b[32m✔\u001b[39m \u001b[34mggplot2  \u001b[39m 3.4.3     \u001b[32m✔\u001b[39m \u001b[34mtibble   \u001b[39m 3.2.1\n",
      "\u001b[32m✔\u001b[39m \u001b[34mlubridate\u001b[39m 1.9.2     \u001b[32m✔\u001b[39m \u001b[34mtidyr    \u001b[39m 1.3.0\n",
      "\u001b[32m✔\u001b[39m \u001b[34mpurrr    \u001b[39m 1.0.1     \n",
      "── \u001b[1mConflicts\u001b[22m ────────────────────────────────────────── tidyverse_conflicts() ──\n",
      "\u001b[31m✖\u001b[39m \u001b[34mdplyr\u001b[39m::\u001b[32mfilter()\u001b[39m masks \u001b[34mstats\u001b[39m::filter()\n",
      "\u001b[31m✖\u001b[39m \u001b[34mdplyr\u001b[39m::\u001b[32mlag()\u001b[39m    masks \u001b[34mstats\u001b[39m::lag()\n",
      "\u001b[36mℹ\u001b[39m Use the conflicted package (\u001b[3m\u001b[34m<http://conflicted.r-lib.org/>\u001b[39m\u001b[23m) to force all conflicts to become errors\n"
     ]
    }
   ],
   "source": [
    "library(tidyverse)\n",
    "library(infer)\n",
    "library(ggplot2)\n",
    "library(dplyr)\n",
    "install.packages(\"gridExtra\")\n",
    "library(gridExtra)"
   ]
  },
  {
   "cell_type": "markdown",
   "id": "9e99400e-c64f-4d54-bb88-056374ee0006",
   "metadata": {},
   "source": [
    "### Reading the Data"
   ]
  },
  {
   "cell_type": "code",
   "execution_count": null,
   "id": "3c05af75-3634-4917-9622-389c5ab31bd3",
   "metadata": {
    "tags": []
   },
   "outputs": [],
   "source": [
    "crimedata <- read.csv('https://raw.githubusercontent.com/alizahirfan/stat201-project/55764f86988a1cd4121c6394cf0d82940ab7f3bf/crimedata.csv', header = TRUE, sep = \",\")\n",
    "head(crimedata)"
   ]
  },
  {
   "cell_type": "markdown",
   "id": "d06e709c-9694-42b8-b759-e3e3844c9781",
   "metadata": {},
   "source": [
    "### Cleaning and Wrangling"
   ]
  },
  {
   "cell_type": "markdown",
   "id": "089af8ff-5fcd-41ad-9a5a-f4a36697bd61",
   "metadata": {},
   "source": [
    "The dataset is already in a tidy format. We can add a new column for who was the Chief of Police (Chief Constable) for each year. We can also create individual dataframes for each Chief. "
   ]
  },
  {
   "cell_type": "code",
   "execution_count": null,
   "id": "e489f82d-2726-4954-92bc-e27cc2dd08ec",
   "metadata": {
    "tags": []
   },
   "outputs": [],
   "source": [
    "crimedata_filtered <- crimedata %>% \n",
    "  select(TYPE, YEAR) %>%\n",
    "  filter(TYPE == \"Theft of Bicycle\") %>%\n",
    "  mutate(Chief_Constable = case_when(\n",
    "    YEAR <= 2007 ~ \"Jamie Graham\",\n",
    "    YEAR > 2007 & YEAR <= 2015 ~ \"Jim Chu\",\n",
    "    YEAR > 2015 ~ \"Adam Palmer\",\n",
    "    TRUE ~ \"Data Outside Tenures\" # for any years outside the specified ranges\n",
    "  ))\n",
    "head(crimedata_filtered)"
   ]
  },
  {
   "cell_type": "code",
   "execution_count": null,
   "id": "3611fe82-4547-4031-b0f7-f14e8cfb734a",
   "metadata": {
    "tags": []
   },
   "outputs": [],
   "source": [
    "crimedata_palmer <- crimedata_filtered %>%\n",
    "                    filter(Chief_Constable == \"Adam Palmer\")\n",
    "crimedata_chu <- crimedata_filtered %>%\n",
    "                    filter(Chief_Constable == \"Jim Chu\")\n",
    "crimedata_graham <- crimedata_filtered %>%\n",
    "                    filter(Chief_Constable == \"Jamie Graham\")"
   ]
  },
  {
   "cell_type": "markdown",
   "id": "5de90424-ee86-4fb0-af85-3aa35a8c0563",
   "metadata": {},
   "source": [
    "### Visualizing Raw Data"
   ]
  },
  {
   "cell_type": "markdown",
   "id": "ad81bf89-35b3-46e2-86e6-c4ebdc67ccf4",
   "metadata": {},
   "source": [
    "To view the raw data in a way that's helpful for answering our research question, we can plot a bar graph of how many bike thefts have occured every year from 2003 to 2023."
   ]
  },
  {
   "cell_type": "code",
   "execution_count": null,
   "id": "6aed5cd4-6504-4584-9c4c-9c80e85b3a8a",
   "metadata": {
    "tags": []
   },
   "outputs": [],
   "source": [
    "crimedata_summary <- crimedata_filtered %>% \n",
    "group_by(YEAR) %>%\n",
    "summarize(count = n())"
   ]
  },
  {
   "cell_type": "code",
   "execution_count": null,
   "id": "d7da4d1b-6674-4966-84b3-a8f0a2a92ea6",
   "metadata": {
    "tags": []
   },
   "outputs": [],
   "source": [
    "data_vis <- crimedata_summary %>%\n",
    "            ggplot(aes(x = YEAR, y = count, fill = as.factor(YEAR))) +\n",
    "            geom_bar(stat = \"identity\", show.legend = FALSE) +\n",
    "            scale_fill_viridis_d() +\n",
    "            labs(x = \"Year\", y = \"Number of Bike Thefts\", title = \"Annual Bike Thefts in Vancouver\") +\n",
    "            theme_minimal()"
   ]
  },
  {
   "cell_type": "code",
   "execution_count": null,
   "id": "565ccaa1-a798-4eba-8749-9724853504d0",
   "metadata": {
    "tags": []
   },
   "outputs": [],
   "source": [
    "trend_vis <- crimedata_summary %>%\n",
    "  ggplot(aes(x = YEAR, y = count)) +\n",
    "  geom_line(group=1, color=\"blue\") +\n",
    "  geom_point(color=\"red\") +\n",
    "  expand_limits(y=0) +\n",
    "  labs(x = \"Year\", y = \"Number of Bike Thefts\", title = \"Trend of Annual Bike Thefts in Vancouver\") +\n",
    "  theme_minimal() "
   ]
  },
  {
   "cell_type": "code",
   "execution_count": null,
   "id": "c5aa5a03-c236-4641-9bea-47f7b57fe6ba",
   "metadata": {
    "tags": []
   },
   "outputs": [],
   "source": [
    "# Display the plots\n",
    "options(repr.plot.width = 12, repr.plot.height = 4) \n",
    "grid.arrange(data_vis, trend_vis, ncol = 2)"
   ]
  },
  {
   "cell_type": "markdown",
   "id": "5dbf638f-f659-46ad-b7bf-4dee36c6dd5a",
   "metadata": {},
   "source": [
    "### Calculating Statistics for Location parameter and Scale parameter"
   ]
  },
  {
   "cell_type": "markdown",
   "id": "f3669afe-1199-4a7c-a8ad-0ff97acb6284",
   "metadata": {},
   "source": [
    "The statistics we are interested in calculated are mean annual bike thefts and SD of annual bike thefts for each police chief."
   ]
  },
  {
   "cell_type": "code",
   "execution_count": null,
   "id": "06579323-66c3-426f-a56c-c0760684d3f3",
   "metadata": {
    "tags": []
   },
   "outputs": [],
   "source": [
    "# Calculate mean and SD of bike theft for Palmer's tenure\n",
    "palmer_stats <- crimedata_palmer %>%\n",
    "  group_by(YEAR) %>%\n",
    "  summarize(count = n(), .groups = 'drop') %>%\n",
    "  summarize(mean_theft = mean(count), sd_theft = sd(count), .groups = 'drop') %>%\n",
    "  mutate(Chief_Constable = \"Adam Palmer\")\n",
    "\n",
    "# Calculate mean and SD of bike theft for Chu's tenure\n",
    "chu_stats <- crimedata_chu %>%\n",
    "  group_by(YEAR) %>%\n",
    "  summarize(count = n(), .groups = 'drop') %>%\n",
    "  summarize(mean_theft = mean(count), sd_theft = sd(count), .groups = 'drop') %>%\n",
    "  mutate(Chief_Constable = \"Jim Chu\")\n",
    "\n",
    "# Calculate mean and SD of bike theft for Graham's tenure\n",
    "graham_stats <- crimedata_graham %>%\n",
    "  group_by(YEAR) %>%\n",
    "  summarize(count = n(), .groups = 'drop') %>%\n",
    "  summarize(mean_theft = mean(count), sd_theft = sd(count), .groups = 'drop') %>%\n",
    "  mutate(Chief_Constable = \"Jamie Graham\")\n",
    "\n",
    "\n",
    "chiefs_summary <- bind_rows(graham_stats, chu_stats, palmer_stats)\n",
    "\n",
    "# View the results\n",
    "chiefs_summary\n"
   ]
  },
  {
   "cell_type": "markdown",
   "id": "c3861f92-30de-4c08-8063-4e381a383b6e",
   "metadata": {},
   "source": [
    "### Visualizing the Analysis"
   ]
  },
  {
   "cell_type": "markdown",
   "id": "245f3ec3-2cc5-42c5-ab45-4a0c90241ac0",
   "metadata": {},
   "source": [
    "We will revisit the line graph from earlier with indication of police chief. We can use a bar graph with error bars to view mean annual bike theft and it's associated standard deviation during each police chief's tenure."
   ]
  },
  {
   "cell_type": "code",
   "execution_count": null,
   "id": "7de242c2-068b-4093-a809-c39690dc346d",
   "metadata": {
    "tags": []
   },
   "outputs": [],
   "source": [
    "# line graph of annual bike theft with indiciation of police chief during that time\n",
    "time_series_plot <- ggplot(crimedata_summary, aes(x = YEAR, y = count)) +\n",
    "  geom_line(color = \"blue\", size = 1) +\n",
    "  geom_point(color = \"red\") +\n",
    "  geom_vline(xintercept = c(2007, 2015), linetype = \"dashed\", color = \"darkgray\") +\n",
    "  geom_text(aes(x = 2002, y = max(count), label = \"Graham\"), hjust = 0, vjust = 2, color = \"darkgray\") +\n",
    "  geom_text(aes(x = 2011, y = max(count), label = \"Chu\"), hjust = 0, vjust = 2, color = \"darkgray\") +\n",
    "  geom_text(aes(x = 2016, y = max(count), label = \"Palmer\"), hjust = 0, vjust = 2, color = \"darkgray\") +\n",
    "  labs(x = \"Year\", y = \"Number of Bike Thefts\", title = \"Trends in Bike Thefts in Vancouver (2002 - Present)\") +\n",
    "  theme_minimal() +\n",
    "  theme(axis.text.x = element_text(angle = 45, hjust = 1))"
   ]
  },
  {
   "cell_type": "code",
   "execution_count": null,
   "id": "f3a335c6-d033-45b5-90c0-226de8613d6f",
   "metadata": {
    "tags": []
   },
   "outputs": [],
   "source": [
    "# Creates bar plot with error bars\n",
    "chiefs_summary_plot <- chiefs_summary %>%\n",
    "  ggplot(aes(x = Chief_Constable, y = mean_theft, fill = Chief_Constable)) +\n",
    "  geom_bar(stat = \"identity\") +\n",
    "  geom_errorbar(\n",
    "    aes(ymin = mean_theft - sd_theft, ymax = mean_theft + sd_theft),\n",
    "    width = 0.2\n",
    "  ) +\n",
    "  scale_fill_brewer(palette = \"Pastel1\") +\n",
    "  labs(y = \"Average Annual Bike Theft\", x = \"Chief Constable\", title = \"Bike Theft Statistics by Chief Constable\") +\n",
    "  theme_minimal() +\n",
    "  theme(legend.position = \"none\")"
   ]
  },
  {
   "cell_type": "code",
   "execution_count": null,
   "id": "f5311110-0e59-4391-ac1c-8ad648e82516",
   "metadata": {
    "tags": []
   },
   "outputs": [],
   "source": [
    "# Display the plots\n",
    "options(repr.plot.width = 12, repr.plot.height = 5) \n",
    "grid.arrange(time_series_plot, chiefs_summary_plot, ncol = 2)"
   ]
  },
  {
   "cell_type": "markdown",
   "id": "744a3bf8-42c0-4f56-8ff7-a7ef8113c61f",
   "metadata": {},
   "source": [
    "# Methods: Plan"
   ]
  },
  {
   "cell_type": "markdown",
   "id": "b3484163-39a9-447e-afbb-e235e0d3cf99",
   "metadata": {},
   "source": [
    "### Trustworthiness of the Report\n",
    "The strength of this report lies in its meticulous approach to data analysis, anchored in data from authoritative public sources. We've taken great care in preparing the data, aiming to eliminate any potential bias and ensure that our analysis is as accurate as possible. We believe that the use of clear visualizations and straightforward statistical summaries not only makes our findings transparent but also easy to understand and act upon.\n",
    "\n",
    "### Limitations of Preliminary Analysis\n",
    "While the preliminary plots and estimates provide an insightful overview of bike theft trends during different Chief Constables' tenures, they are not sufficient for stakeholders who require a more nuanced understanding of the underlying patterns. To this end, our report will supplement these initial findings with a hypothesis test and confidence intervals to assess the statistical significance of the observed differences. Both bootstrapping and asymptotic methods will be utilized to validate the robustness of our results.\n",
    "\n",
    "### Statistical Analysis Plan\n",
    "We will conduct hypothesis testing to compare the average annual bike thefts and their variability during Jim Chu's tenure to other periods. The null hypothesis posits no significant difference, while the alternative hypothesis suggests a meaningful change in the average or variability of thefts.\n",
    "\n",
    "Bootstrapping will be employed to construct confidence intervals and perform hypothesis tests for the location and scale parameters, providing a non-parametric approach to infer the population parameters from our sample. Additionally, we will use asymptotic methods to approximate the sampling distribution of our test statistic under the null hypothesis, enabling us to calculate p-values and assess the evidence against the null hypothesis.\n",
    "\n",
    "A 95% confidence interval for the mean and standard deviation of bike thefts will be generated to quantify the estimation uncertainty. The significance level will be set at 0.05 for hypothesis testing.\n",
    "\n",
    "### Expected Outcomes and Impact\n",
    "We anticipate uncovering whether there was a significant change in the average annual number of bike thefts or their variability during Jim Chu's tenure. A statistically significant finding could indicate the effectiveness (or lack thereof) of the policing strategies implemented in that period.\n",
    "\n",
    "Such insights could have substantial implications for public safety policies, potentially guiding resource allocation for crime prevention. Moreover, it can inform the public and policymakers about the effectiveness of leadership within the police department.\n",
    "\n",
    "### Future Directions\n",
    "Regardless of the outcomes, this analysis could prompt further research into the causal factors contributing to bike thefts and the potential preventive measures. Questions about the socioeconomic determinants of crime, the role of community engagement, and the impact of urban development on crime rates could be explored to build a safer and more informed community."
   ]
  },
  {
   "cell_type": "markdown",
   "id": "648cef8a-d9e5-48a8-be0b-191101f2f25d",
   "metadata": {
    "tags": []
   },
   "source": [
    "# Reference:\n",
    "Crime Statistics. “Crime Statistics.” Vancouver Police Department, 19 July 2023, vpd.ca/crime-statistics/.\n",
    "Marquis, G. (1993). Policing canada's century: A history of the canadian association of chiefs of police. University of Toronto Press. https://doi.org/10.3138/9781487578480\n",
    "\n",
    "Vancouver Police Department. “Vancouver Police Chief” Accessed 30 October 2023. https://vpd.ca/about-the-vpd/executive-team/\n",
    "\n",
    "Global News. \"‘I knew right away that that was the bike’: B.C. man helps track down stolen ride on transit bus\" Accessed 31 October 2023. https://globalnews.ca/news/7334804/bike-theft-north-vancouver-bus/. Robinson, K. (2020)"
   ]
  },
  {
   "cell_type": "code",
   "execution_count": null,
   "id": "7b56117a-6f63-448a-8621-340bb64fc9a3",
   "metadata": {},
   "outputs": [],
   "source": []
  }
 ],
 "metadata": {
  "kernelspec": {
   "display_name": "R",
   "language": "R",
   "name": "ir"
  },
  "language_info": {
   "codemirror_mode": "r",
   "file_extension": ".r",
   "mimetype": "text/x-r-source",
   "name": "R",
   "pygments_lexer": "r",
   "version": "4.2.3"
  }
 },
 "nbformat": 4,
 "nbformat_minor": 5
}
